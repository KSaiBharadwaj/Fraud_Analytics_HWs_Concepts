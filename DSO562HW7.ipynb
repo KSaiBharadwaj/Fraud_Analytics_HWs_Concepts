{
  "nbformat": 4,
  "nbformat_minor": 0,
  "metadata": {
    "colab": {
      "provenance": [],
      "authorship_tag": "ABX9TyOKC50fADz+Cc/u4H6wWZPN",
      "include_colab_link": true
    },
    "kernelspec": {
      "name": "python3",
      "display_name": "Python 3"
    },
    "language_info": {
      "name": "python"
    }
  },
  "cells": [
    {
      "cell_type": "markdown",
      "metadata": {
        "id": "view-in-github",
        "colab_type": "text"
      },
      "source": [
        "<a href=\"https://colab.research.google.com/github/KSaiBharadwaj/fraudanalytics/blob/main/DSO562HW7.ipynb\" target=\"_parent\"><img src=\"https://colab.research.google.com/assets/colab-badge.svg\" alt=\"Open In Colab\"/></a>"
      ]
    },
    {
      "cell_type": "code",
      "execution_count": 61,
      "metadata": {
        "id": "WlP0qkl9WEyk"
      },
      "outputs": [],
      "source": [
        "import pandas as pd\n",
        "import numpy as np\n",
        "from sklearn.metrics import confusion_matrix, accuracy_score\n",
        "from sklearn.linear_model import LogisticRegression\n",
        "from sklearn.model_selection import train_test_split"
      ]
    },
    {
      "cell_type": "markdown",
      "source": [
        "**Problem 1: Determining who gets a free gift**"
      ],
      "metadata": {
        "id": "Ij777_pzWltn"
      }
    },
    {
      "cell_type": "code",
      "source": [
        "# As given in the problem, the weights are given for the model with a group of parameters\n",
        "\n",
        "def free_gift(id, age, a, b, c, sfreq, sval):\n",
        "  eq = -3.82398 + (-0.02990 * age) + (0 * a) + (-0.09089 * b) + (-0.19558 * c) + (0.02999 * sval) + (0.74572 * sfreq)\n",
        "\n",
        "  recieving_gift = (np.exp(eq))/(1+(np.exp(eq)))\n",
        "  prnt = \"will not recieve a gift\" if recieving_gift < 0.55 else \"recieves a gift\"\n",
        "  print(id,prnt)\n",
        "\n",
        "test = [[1, 56, 0, 1, 0, 1.6, 109.32], [2, 21, 0, 0, 1, 4.92, 11.28], [3, 48, 0, 1, 0, 1.21, 161.19], [4, 37, 0, 0, 1, 0.72, 170.65], [5, 32, 1, 0, 0, 1.08, 165.39]]\n",
        "\n",
        "for t in test:\n",
        "  free_gift(t[0], t[1], t[2], t[3], t[4], t[5], t[6])\n"
      ],
      "metadata": {
        "colab": {
          "base_uri": "https://localhost:8080/"
        },
        "id": "3J_RNgxMWtej",
        "outputId": "7e91de08-76c1-4368-ffcc-84d8300d535d"
      },
      "execution_count": 62,
      "outputs": [
        {
          "output_type": "stream",
          "name": "stdout",
          "text": [
            "1 will not recieve a gift\n",
            "2 will not recieve a gift\n",
            "3 recieves a gift\n",
            "4 recieves a gift\n",
            "5 recieves a gift\n"
          ]
        }
      ]
    },
    {
      "cell_type": "markdown",
      "source": [
        "**Problem 2: Build a logistic regression model for this Data**"
      ],
      "metadata": {
        "id": "7kk-pBPui1G-"
      }
    },
    {
      "cell_type": "code",
      "source": [
        "c_df = pd.read_csv(\"/content/sample_data/Numerical_ckd.csv\")\n",
        "\n",
        "c_df.head()"
      ],
      "metadata": {
        "colab": {
          "base_uri": "https://localhost:8080/",
          "height": 223
        },
        "id": "EkIkCSk9jMII",
        "outputId": "24eda713-d4ff-46c7-f92f-4707d1229dc8"
      },
      "execution_count": 63,
      "outputs": [
        {
          "output_type": "execute_result",
          "data": {
            "text/plain": [
              "   Age  Blood Pressure  Specific Gravity  Albumin  Sugar  \\\n",
              "0   48              70             1.005        4      0   \n",
              "1   53              90             1.020        2      0   \n",
              "2   63              70             1.010        3      0   \n",
              "3   68              80             1.010        3      2   \n",
              "4   61              80             1.015        2      0   \n",
              "\n",
              "   Blood Glucose Random  Blood Urea  Serum Creatinine  Sodium  Potassium  \\\n",
              "0                   117          56               3.8     111        2.5   \n",
              "1                    70         107               7.2     114        3.7   \n",
              "2                   380          60               2.7     131        4.2   \n",
              "3                   157          90               4.1     130        6.4   \n",
              "4                   173         148               3.9     135        5.2   \n",
              "\n",
              "   Hemoglobin  Packed Cell Volume  White Blood Cell Count  \\\n",
              "0        11.2                  32                    6700   \n",
              "1         9.5                  29                   12100   \n",
              "2        10.8                  32                    4500   \n",
              "3         5.6                  16                   11000   \n",
              "4         7.7                  24                    9200   \n",
              "\n",
              "   Red Blood Cell Count  Class  \n",
              "0                   3.9      1  \n",
              "1                   3.7      1  \n",
              "2                   3.8      1  \n",
              "3                   2.6      1  \n",
              "4                   3.2      1  "
            ],
            "text/html": [
              "\n",
              "  <div id=\"df-8e0c5f71-f5ca-45dc-95b6-42736e074ff6\" class=\"colab-df-container\">\n",
              "    <div>\n",
              "<style scoped>\n",
              "    .dataframe tbody tr th:only-of-type {\n",
              "        vertical-align: middle;\n",
              "    }\n",
              "\n",
              "    .dataframe tbody tr th {\n",
              "        vertical-align: top;\n",
              "    }\n",
              "\n",
              "    .dataframe thead th {\n",
              "        text-align: right;\n",
              "    }\n",
              "</style>\n",
              "<table border=\"1\" class=\"dataframe\">\n",
              "  <thead>\n",
              "    <tr style=\"text-align: right;\">\n",
              "      <th></th>\n",
              "      <th>Age</th>\n",
              "      <th>Blood Pressure</th>\n",
              "      <th>Specific Gravity</th>\n",
              "      <th>Albumin</th>\n",
              "      <th>Sugar</th>\n",
              "      <th>Blood Glucose Random</th>\n",
              "      <th>Blood Urea</th>\n",
              "      <th>Serum Creatinine</th>\n",
              "      <th>Sodium</th>\n",
              "      <th>Potassium</th>\n",
              "      <th>Hemoglobin</th>\n",
              "      <th>Packed Cell Volume</th>\n",
              "      <th>White Blood Cell Count</th>\n",
              "      <th>Red Blood Cell Count</th>\n",
              "      <th>Class</th>\n",
              "    </tr>\n",
              "  </thead>\n",
              "  <tbody>\n",
              "    <tr>\n",
              "      <th>0</th>\n",
              "      <td>48</td>\n",
              "      <td>70</td>\n",
              "      <td>1.005</td>\n",
              "      <td>4</td>\n",
              "      <td>0</td>\n",
              "      <td>117</td>\n",
              "      <td>56</td>\n",
              "      <td>3.8</td>\n",
              "      <td>111</td>\n",
              "      <td>2.5</td>\n",
              "      <td>11.2</td>\n",
              "      <td>32</td>\n",
              "      <td>6700</td>\n",
              "      <td>3.9</td>\n",
              "      <td>1</td>\n",
              "    </tr>\n",
              "    <tr>\n",
              "      <th>1</th>\n",
              "      <td>53</td>\n",
              "      <td>90</td>\n",
              "      <td>1.020</td>\n",
              "      <td>2</td>\n",
              "      <td>0</td>\n",
              "      <td>70</td>\n",
              "      <td>107</td>\n",
              "      <td>7.2</td>\n",
              "      <td>114</td>\n",
              "      <td>3.7</td>\n",
              "      <td>9.5</td>\n",
              "      <td>29</td>\n",
              "      <td>12100</td>\n",
              "      <td>3.7</td>\n",
              "      <td>1</td>\n",
              "    </tr>\n",
              "    <tr>\n",
              "      <th>2</th>\n",
              "      <td>63</td>\n",
              "      <td>70</td>\n",
              "      <td>1.010</td>\n",
              "      <td>3</td>\n",
              "      <td>0</td>\n",
              "      <td>380</td>\n",
              "      <td>60</td>\n",
              "      <td>2.7</td>\n",
              "      <td>131</td>\n",
              "      <td>4.2</td>\n",
              "      <td>10.8</td>\n",
              "      <td>32</td>\n",
              "      <td>4500</td>\n",
              "      <td>3.8</td>\n",
              "      <td>1</td>\n",
              "    </tr>\n",
              "    <tr>\n",
              "      <th>3</th>\n",
              "      <td>68</td>\n",
              "      <td>80</td>\n",
              "      <td>1.010</td>\n",
              "      <td>3</td>\n",
              "      <td>2</td>\n",
              "      <td>157</td>\n",
              "      <td>90</td>\n",
              "      <td>4.1</td>\n",
              "      <td>130</td>\n",
              "      <td>6.4</td>\n",
              "      <td>5.6</td>\n",
              "      <td>16</td>\n",
              "      <td>11000</td>\n",
              "      <td>2.6</td>\n",
              "      <td>1</td>\n",
              "    </tr>\n",
              "    <tr>\n",
              "      <th>4</th>\n",
              "      <td>61</td>\n",
              "      <td>80</td>\n",
              "      <td>1.015</td>\n",
              "      <td>2</td>\n",
              "      <td>0</td>\n",
              "      <td>173</td>\n",
              "      <td>148</td>\n",
              "      <td>3.9</td>\n",
              "      <td>135</td>\n",
              "      <td>5.2</td>\n",
              "      <td>7.7</td>\n",
              "      <td>24</td>\n",
              "      <td>9200</td>\n",
              "      <td>3.2</td>\n",
              "      <td>1</td>\n",
              "    </tr>\n",
              "  </tbody>\n",
              "</table>\n",
              "</div>\n",
              "    <div class=\"colab-df-buttons\">\n",
              "\n",
              "  <div class=\"colab-df-container\">\n",
              "    <button class=\"colab-df-convert\" onclick=\"convertToInteractive('df-8e0c5f71-f5ca-45dc-95b6-42736e074ff6')\"\n",
              "            title=\"Convert this dataframe to an interactive table.\"\n",
              "            style=\"display:none;\">\n",
              "\n",
              "  <svg xmlns=\"http://www.w3.org/2000/svg\" height=\"24px\" viewBox=\"0 -960 960 960\">\n",
              "    <path d=\"M120-120v-720h720v720H120Zm60-500h600v-160H180v160Zm220 220h160v-160H400v160Zm0 220h160v-160H400v160ZM180-400h160v-160H180v160Zm440 0h160v-160H620v160ZM180-180h160v-160H180v160Zm440 0h160v-160H620v160Z\"/>\n",
              "  </svg>\n",
              "    </button>\n",
              "\n",
              "  <style>\n",
              "    .colab-df-container {\n",
              "      display:flex;\n",
              "      gap: 12px;\n",
              "    }\n",
              "\n",
              "    .colab-df-convert {\n",
              "      background-color: #E8F0FE;\n",
              "      border: none;\n",
              "      border-radius: 50%;\n",
              "      cursor: pointer;\n",
              "      display: none;\n",
              "      fill: #1967D2;\n",
              "      height: 32px;\n",
              "      padding: 0 0 0 0;\n",
              "      width: 32px;\n",
              "    }\n",
              "\n",
              "    .colab-df-convert:hover {\n",
              "      background-color: #E2EBFA;\n",
              "      box-shadow: 0px 1px 2px rgba(60, 64, 67, 0.3), 0px 1px 3px 1px rgba(60, 64, 67, 0.15);\n",
              "      fill: #174EA6;\n",
              "    }\n",
              "\n",
              "    .colab-df-buttons div {\n",
              "      margin-bottom: 4px;\n",
              "    }\n",
              "\n",
              "    [theme=dark] .colab-df-convert {\n",
              "      background-color: #3B4455;\n",
              "      fill: #D2E3FC;\n",
              "    }\n",
              "\n",
              "    [theme=dark] .colab-df-convert:hover {\n",
              "      background-color: #434B5C;\n",
              "      box-shadow: 0px 1px 3px 1px rgba(0, 0, 0, 0.15);\n",
              "      filter: drop-shadow(0px 1px 2px rgba(0, 0, 0, 0.3));\n",
              "      fill: #FFFFFF;\n",
              "    }\n",
              "  </style>\n",
              "\n",
              "    <script>\n",
              "      const buttonEl =\n",
              "        document.querySelector('#df-8e0c5f71-f5ca-45dc-95b6-42736e074ff6 button.colab-df-convert');\n",
              "      buttonEl.style.display =\n",
              "        google.colab.kernel.accessAllowed ? 'block' : 'none';\n",
              "\n",
              "      async function convertToInteractive(key) {\n",
              "        const element = document.querySelector('#df-8e0c5f71-f5ca-45dc-95b6-42736e074ff6');\n",
              "        const dataTable =\n",
              "          await google.colab.kernel.invokeFunction('convertToInteractive',\n",
              "                                                    [key], {});\n",
              "        if (!dataTable) return;\n",
              "\n",
              "        const docLinkHtml = 'Like what you see? Visit the ' +\n",
              "          '<a target=\"_blank\" href=https://colab.research.google.com/notebooks/data_table.ipynb>data table notebook</a>'\n",
              "          + ' to learn more about interactive tables.';\n",
              "        element.innerHTML = '';\n",
              "        dataTable['output_type'] = 'display_data';\n",
              "        await google.colab.output.renderOutput(dataTable, element);\n",
              "        const docLink = document.createElement('div');\n",
              "        docLink.innerHTML = docLinkHtml;\n",
              "        element.appendChild(docLink);\n",
              "      }\n",
              "    </script>\n",
              "  </div>\n",
              "\n",
              "\n",
              "<div id=\"df-4e29d33f-79bf-46f5-9e06-04299bb7edb1\">\n",
              "  <button class=\"colab-df-quickchart\" onclick=\"quickchart('df-4e29d33f-79bf-46f5-9e06-04299bb7edb1')\"\n",
              "            title=\"Suggest charts\"\n",
              "            style=\"display:none;\">\n",
              "\n",
              "<svg xmlns=\"http://www.w3.org/2000/svg\" height=\"24px\"viewBox=\"0 0 24 24\"\n",
              "     width=\"24px\">\n",
              "    <g>\n",
              "        <path d=\"M19 3H5c-1.1 0-2 .9-2 2v14c0 1.1.9 2 2 2h14c1.1 0 2-.9 2-2V5c0-1.1-.9-2-2-2zM9 17H7v-7h2v7zm4 0h-2V7h2v10zm4 0h-2v-4h2v4z\"/>\n",
              "    </g>\n",
              "</svg>\n",
              "  </button>\n",
              "\n",
              "<style>\n",
              "  .colab-df-quickchart {\n",
              "      --bg-color: #E8F0FE;\n",
              "      --fill-color: #1967D2;\n",
              "      --hover-bg-color: #E2EBFA;\n",
              "      --hover-fill-color: #174EA6;\n",
              "      --disabled-fill-color: #AAA;\n",
              "      --disabled-bg-color: #DDD;\n",
              "  }\n",
              "\n",
              "  [theme=dark] .colab-df-quickchart {\n",
              "      --bg-color: #3B4455;\n",
              "      --fill-color: #D2E3FC;\n",
              "      --hover-bg-color: #434B5C;\n",
              "      --hover-fill-color: #FFFFFF;\n",
              "      --disabled-bg-color: #3B4455;\n",
              "      --disabled-fill-color: #666;\n",
              "  }\n",
              "\n",
              "  .colab-df-quickchart {\n",
              "    background-color: var(--bg-color);\n",
              "    border: none;\n",
              "    border-radius: 50%;\n",
              "    cursor: pointer;\n",
              "    display: none;\n",
              "    fill: var(--fill-color);\n",
              "    height: 32px;\n",
              "    padding: 0;\n",
              "    width: 32px;\n",
              "  }\n",
              "\n",
              "  .colab-df-quickchart:hover {\n",
              "    background-color: var(--hover-bg-color);\n",
              "    box-shadow: 0 1px 2px rgba(60, 64, 67, 0.3), 0 1px 3px 1px rgba(60, 64, 67, 0.15);\n",
              "    fill: var(--button-hover-fill-color);\n",
              "  }\n",
              "\n",
              "  .colab-df-quickchart-complete:disabled,\n",
              "  .colab-df-quickchart-complete:disabled:hover {\n",
              "    background-color: var(--disabled-bg-color);\n",
              "    fill: var(--disabled-fill-color);\n",
              "    box-shadow: none;\n",
              "  }\n",
              "\n",
              "  .colab-df-spinner {\n",
              "    border: 2px solid var(--fill-color);\n",
              "    border-color: transparent;\n",
              "    border-bottom-color: var(--fill-color);\n",
              "    animation:\n",
              "      spin 1s steps(1) infinite;\n",
              "  }\n",
              "\n",
              "  @keyframes spin {\n",
              "    0% {\n",
              "      border-color: transparent;\n",
              "      border-bottom-color: var(--fill-color);\n",
              "      border-left-color: var(--fill-color);\n",
              "    }\n",
              "    20% {\n",
              "      border-color: transparent;\n",
              "      border-left-color: var(--fill-color);\n",
              "      border-top-color: var(--fill-color);\n",
              "    }\n",
              "    30% {\n",
              "      border-color: transparent;\n",
              "      border-left-color: var(--fill-color);\n",
              "      border-top-color: var(--fill-color);\n",
              "      border-right-color: var(--fill-color);\n",
              "    }\n",
              "    40% {\n",
              "      border-color: transparent;\n",
              "      border-right-color: var(--fill-color);\n",
              "      border-top-color: var(--fill-color);\n",
              "    }\n",
              "    60% {\n",
              "      border-color: transparent;\n",
              "      border-right-color: var(--fill-color);\n",
              "    }\n",
              "    80% {\n",
              "      border-color: transparent;\n",
              "      border-right-color: var(--fill-color);\n",
              "      border-bottom-color: var(--fill-color);\n",
              "    }\n",
              "    90% {\n",
              "      border-color: transparent;\n",
              "      border-bottom-color: var(--fill-color);\n",
              "    }\n",
              "  }\n",
              "</style>\n",
              "\n",
              "  <script>\n",
              "    async function quickchart(key) {\n",
              "      const quickchartButtonEl =\n",
              "        document.querySelector('#' + key + ' button');\n",
              "      quickchartButtonEl.disabled = true;  // To prevent multiple clicks.\n",
              "      quickchartButtonEl.classList.add('colab-df-spinner');\n",
              "      try {\n",
              "        const charts = await google.colab.kernel.invokeFunction(\n",
              "            'suggestCharts', [key], {});\n",
              "      } catch (error) {\n",
              "        console.error('Error during call to suggestCharts:', error);\n",
              "      }\n",
              "      quickchartButtonEl.classList.remove('colab-df-spinner');\n",
              "      quickchartButtonEl.classList.add('colab-df-quickchart-complete');\n",
              "    }\n",
              "    (() => {\n",
              "      let quickchartButtonEl =\n",
              "        document.querySelector('#df-4e29d33f-79bf-46f5-9e06-04299bb7edb1 button');\n",
              "      quickchartButtonEl.style.display =\n",
              "        google.colab.kernel.accessAllowed ? 'block' : 'none';\n",
              "    })();\n",
              "  </script>\n",
              "</div>\n",
              "\n",
              "    </div>\n",
              "  </div>\n"
            ],
            "application/vnd.google.colaboratory.intrinsic+json": {
              "type": "dataframe",
              "variable_name": "c_df",
              "summary": "{\n  \"name\": \"c_df\",\n  \"rows\": 158,\n  \"fields\": [\n    {\n      \"column\": \"Age\",\n      \"properties\": {\n        \"dtype\": \"number\",\n        \"std\": 15,\n        \"min\": 6,\n        \"max\": 83,\n        \"num_unique_values\": 58,\n        \"samples\": [\n          48,\n          69,\n          20\n        ],\n        \"semantic_type\": \"\",\n        \"description\": \"\"\n      }\n    },\n    {\n      \"column\": \"Blood Pressure\",\n      \"properties\": {\n        \"dtype\": \"number\",\n        \"std\": 11,\n        \"min\": 50,\n        \"max\": 110,\n        \"num_unique_values\": 7,\n        \"samples\": [\n          70,\n          90,\n          50\n        ],\n        \"semantic_type\": \"\",\n        \"description\": \"\"\n      }\n    },\n    {\n      \"column\": \"Specific Gravity\",\n      \"properties\": {\n        \"dtype\": \"number\",\n        \"std\": 0.005498968261323823,\n        \"min\": 1.005,\n        \"max\": 1.025,\n        \"num_unique_values\": 5,\n        \"samples\": [\n          1.02,\n          1.025,\n          1.01\n        ],\n        \"semantic_type\": \"\",\n        \"description\": \"\"\n      }\n    },\n    {\n      \"column\": \"Albumin\",\n      \"properties\": {\n        \"dtype\": \"number\",\n        \"std\": 1,\n        \"min\": 0,\n        \"max\": 4,\n        \"num_unique_values\": 5,\n        \"samples\": [\n          2,\n          1,\n          3\n        ],\n        \"semantic_type\": \"\",\n        \"description\": \"\"\n      }\n    },\n    {\n      \"column\": \"Sugar\",\n      \"properties\": {\n        \"dtype\": \"number\",\n        \"std\": 0,\n        \"min\": 0,\n        \"max\": 5,\n        \"num_unique_values\": 6,\n        \"samples\": [\n          0,\n          2,\n          5\n        ],\n        \"semantic_type\": \"\",\n        \"description\": \"\"\n      }\n    },\n    {\n      \"column\": \"Blood Glucose Random\",\n      \"properties\": {\n        \"dtype\": \"number\",\n        \"std\": 64,\n        \"min\": 70,\n        \"max\": 490,\n        \"num_unique_values\": 78,\n        \"samples\": [\n          106,\n          117,\n          424\n        ],\n        \"semantic_type\": \"\",\n        \"description\": \"\"\n      }\n    },\n    {\n      \"column\": \"Blood Urea\",\n      \"properties\": {\n        \"dtype\": \"number\",\n        \"std\": 47,\n        \"min\": 10,\n        \"max\": 309,\n        \"num_unique_values\": 66,\n        \"samples\": [\n          23,\n          45,\n          56\n        ],\n        \"semantic_type\": \"\",\n        \"description\": \"\"\n      }\n    },\n    {\n      \"column\": \"Serum Creatinine\",\n      \"properties\": {\n        \"dtype\": \"number\",\n        \"std\": 3.0776153951065304,\n        \"min\": 0.4,\n        \"max\": 15.2,\n        \"num_unique_values\": 39,\n        \"samples\": [\n          0.6,\n          0.7,\n          3.9\n        ],\n        \"semantic_type\": \"\",\n        \"description\": \"\"\n      }\n    },\n    {\n      \"column\": \"Sodium\",\n      \"properties\": {\n        \"dtype\": \"number\",\n        \"std\": 7,\n        \"min\": 111,\n        \"max\": 150,\n        \"num_unique_values\": 26,\n        \"samples\": [\n          141,\n          137,\n          111\n        ],\n        \"semantic_type\": \"\",\n        \"description\": \"\"\n      }\n    },\n    {\n      \"column\": \"Potassium\",\n      \"properties\": {\n        \"dtype\": \"number\",\n        \"std\": 3.476350572544876,\n        \"min\": 2.5,\n        \"max\": 47.0,\n        \"num_unique_values\": 32,\n        \"samples\": [\n          4.1,\n          47.0,\n          3.9\n        ],\n        \"semantic_type\": \"\",\n        \"description\": \"\"\n      }\n    },\n    {\n      \"column\": \"Hemoglobin\",\n      \"properties\": {\n        \"dtype\": \"number\",\n        \"std\": 2.88220399957856,\n        \"min\": 3.1,\n        \"max\": 17.8,\n        \"num_unique_values\": 80,\n        \"samples\": [\n          9.4,\n          11.2,\n          8.3\n        ],\n        \"semantic_type\": \"\",\n        \"description\": \"\"\n      }\n    },\n    {\n      \"column\": \"Packed Cell Volume\",\n      \"properties\": {\n        \"dtype\": \"number\",\n        \"std\": 9,\n        \"min\": 9,\n        \"max\": 54,\n        \"num_unique_values\": 34,\n        \"samples\": [\n          39,\n          34,\n          45\n        ],\n        \"semantic_type\": \"\",\n        \"description\": \"\"\n      }\n    },\n    {\n      \"column\": \"White Blood Cell Count\",\n      \"properties\": {\n        \"dtype\": \"number\",\n        \"std\": 3126,\n        \"min\": 3800,\n        \"max\": 26400,\n        \"num_unique_values\": 69,\n        \"samples\": [\n          7900,\n          6700,\n          4700\n        ],\n        \"semantic_type\": \"\",\n        \"description\": \"\"\n      }\n    },\n    {\n      \"column\": \"Red Blood Cell Count\",\n      \"properties\": {\n        \"dtype\": \"number\",\n        \"std\": 1.0193644323026714,\n        \"min\": 2.1,\n        \"max\": 8.0,\n        \"num_unique_values\": 41,\n        \"samples\": [\n          4.7,\n          3.6,\n          4.3\n        ],\n        \"semantic_type\": \"\",\n        \"description\": \"\"\n      }\n    },\n    {\n      \"column\": \"Class\",\n      \"properties\": {\n        \"dtype\": \"number\",\n        \"std\": 0,\n        \"min\": 0,\n        \"max\": 1,\n        \"num_unique_values\": 2,\n        \"samples\": [\n          0,\n          1\n        ],\n        \"semantic_type\": \"\",\n        \"description\": \"\"\n      }\n    }\n  ]\n}"
            }
          },
          "metadata": {},
          "execution_count": 63
        }
      ]
    },
    {
      "cell_type": "code",
      "source": [
        "c_df.info()"
      ],
      "metadata": {
        "colab": {
          "base_uri": "https://localhost:8080/"
        },
        "id": "5w5bxGIRj2Vj",
        "outputId": "34280f76-b423-457b-de4c-c3d38e8fedf3"
      },
      "execution_count": 64,
      "outputs": [
        {
          "output_type": "stream",
          "name": "stdout",
          "text": [
            "<class 'pandas.core.frame.DataFrame'>\n",
            "RangeIndex: 158 entries, 0 to 157\n",
            "Data columns (total 15 columns):\n",
            " #   Column                  Non-Null Count  Dtype  \n",
            "---  ------                  --------------  -----  \n",
            " 0   Age                     158 non-null    int64  \n",
            " 1   Blood Pressure          158 non-null    int64  \n",
            " 2   Specific Gravity        158 non-null    float64\n",
            " 3   Albumin                 158 non-null    int64  \n",
            " 4   Sugar                   158 non-null    int64  \n",
            " 5   Blood Glucose Random    158 non-null    int64  \n",
            " 6   Blood Urea              158 non-null    int64  \n",
            " 7   Serum Creatinine        158 non-null    float64\n",
            " 8   Sodium                  158 non-null    int64  \n",
            " 9   Potassium               158 non-null    float64\n",
            " 10  Hemoglobin              158 non-null    float64\n",
            " 11  Packed Cell Volume      158 non-null    int64  \n",
            " 12  White Blood Cell Count  158 non-null    int64  \n",
            " 13  Red Blood Cell Count    158 non-null    float64\n",
            " 14  Class                   158 non-null    int64  \n",
            "dtypes: float64(5), int64(10)\n",
            "memory usage: 18.6 KB\n"
          ]
        }
      ]
    },
    {
      "cell_type": "code",
      "source": [
        "# After prilimnary analysis of the data, the last column is the predictor/ Dependent Categorical variable\n",
        "\n",
        "X = c_df.drop(columns=\"Class\")\n",
        "Y = c_df.iloc[:,-1]\n",
        "\n",
        "def LogReg(x,y):\n",
        "\n",
        "  X_train, X_test, y_train, y_test = train_test_split(x, y, test_size=0.33, random_state=42)\n",
        "\n",
        "  # Logistic Classifier and training the data\n",
        "\n",
        "  clf = LogisticRegression(solver='newton-cg')\n",
        "  clf.fit(X_train, y_train)\n",
        "\n",
        "  y_predict = clf.predict(X_test)\n",
        "\n",
        "  # Accuracy scores and Confusion matrix for the prediction\n",
        "\n",
        "  print(\"The Accuracy score is\",accuracy_score(y_test, y_predict),\n",
        "        \"and the confusion matrix is \", confusion_matrix(y_test, y_predict))\n",
        "\n",
        "LogReg(X,Y)"
      ],
      "metadata": {
        "colab": {
          "base_uri": "https://localhost:8080/"
        },
        "id": "F5R7hO6-j6oB",
        "outputId": "c4c28e13-555e-4a01-d9de-c5c474b3324a"
      },
      "execution_count": 65,
      "outputs": [
        {
          "output_type": "stream",
          "name": "stdout",
          "text": [
            "The Accuracy score is 0.9811320754716981 and the confusion matrix is  [[39  0]\n",
            " [ 1 13]]\n"
          ]
        }
      ]
    },
    {
      "cell_type": "markdown",
      "source": [
        "**Problem 3: Scaling the independent variables from 0-1**"
      ],
      "metadata": {
        "id": "qblXCVCUptOG"
      }
    },
    {
      "cell_type": "code",
      "source": [
        "from sklearn import preprocessing\n",
        "\n",
        "X_columns = X.columns\n",
        "X_nd = preprocessing.minmax_scale(X)\n",
        "X_scale = pd.DataFrame(X_nd, columns=X_columns)\n",
        "\n",
        "# Applying Logistic regression on the scaled data\n",
        "\n",
        "LogReg(X_scale,Y)"
      ],
      "metadata": {
        "colab": {
          "base_uri": "https://localhost:8080/"
        },
        "id": "y25zHXbvp2Tk",
        "outputId": "eb5fc466-dba2-4b3c-8bfb-e8c74f419221"
      },
      "execution_count": 66,
      "outputs": [
        {
          "output_type": "stream",
          "name": "stdout",
          "text": [
            "The Accuracy score is 0.9811320754716981 and the confusion matrix is  [[39  0]\n",
            " [ 1 13]]\n"
          ]
        }
      ]
    },
    {
      "cell_type": "markdown",
      "source": [
        "**Problem 4: UnderSampling the data and building a logistic regression**"
      ],
      "metadata": {
        "id": "bBHqyDu0tMIl"
      }
    },
    {
      "cell_type": "code",
      "source": [
        "c_df_legit = c_df[c_df.Class == 1]\n",
        "c_df_fraud = c_df[c_df.Class == 0]\n",
        "\n",
        "# here fradulant transactions are higher in number than legit\n",
        "\n",
        "c_df_fraud_sample = c_df_fraud.sample(n=c_df_legit.shape[0])\n",
        "\n",
        "c_df_sampled = pd.concat([c_df_legit, c_df_fraud_sample], axis=0)\n",
        "\n",
        "X_sampled = c_df_sampled.drop(columns='Class')\n",
        "Y_sampled = c_df_sampled.iloc[:,-1]\n",
        "\n",
        "LogReg(X_sampled, Y_sampled)"
      ],
      "metadata": {
        "colab": {
          "base_uri": "https://localhost:8080/"
        },
        "id": "X_qXCGRjtZSM",
        "outputId": "58e6183d-42d7-4768-edd1-dc8dc2af9a72"
      },
      "execution_count": 76,
      "outputs": [
        {
          "output_type": "stream",
          "name": "stdout",
          "text": [
            "The Accuracy score is 1.0 and the confusion matrix is  [[14  0]\n",
            " [ 0 15]]\n"
          ]
        }
      ]
    }
  ]
}