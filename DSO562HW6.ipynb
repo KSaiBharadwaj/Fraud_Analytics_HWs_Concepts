{
  "nbformat": 4,
  "nbformat_minor": 0,
  "metadata": {
    "colab": {
      "provenance": [],
      "authorship_tag": "ABX9TyP1YJ3SGNSO526rPGD0+y4u",
      "include_colab_link": true
    },
    "kernelspec": {
      "name": "python3",
      "display_name": "Python 3"
    },
    "language_info": {
      "name": "python"
    }
  },
  "cells": [
    {
      "cell_type": "markdown",
      "metadata": {
        "id": "view-in-github",
        "colab_type": "text"
      },
      "source": [
        "<a href=\"https://colab.research.google.com/github/KSaiBharadwaj/fraudanalytics/blob/main/DSO562HW6.ipynb\" target=\"_parent\"><img src=\"https://colab.research.google.com/assets/colab-badge.svg\" alt=\"Open In Colab\"/></a>"
      ]
    },
    {
      "cell_type": "code",
      "execution_count": 114,
      "metadata": {
        "id": "engNKXNhwyg3"
      },
      "outputs": [],
      "source": [
        "import pandas as pd\n",
        "import numpy as np\n",
        "from sklearn import neighbors, preprocessing\n",
        "from sklearn.model_selection import train_test_split\n",
        "from sklearn.metrics import confusion_matrix, accuracy_score\n",
        "import matplotlib.pyplot as plt"
      ]
    },
    {
      "cell_type": "markdown",
      "source": [
        "**Problem 1: Building kNN Model based on Class**"
      ],
      "metadata": {
        "id": "J4-qH22CCATT"
      }
    },
    {
      "cell_type": "code",
      "source": [
        "# importing the data and doing prilimnary analysis\n",
        "\n",
        "disease = pd.read_csv(\"/content/sample_data/Numerical_ckd.csv\")\n",
        "\n",
        "# disease.info()"
      ],
      "metadata": {
        "id": "egztRLHSCMFY"
      },
      "execution_count": 115,
      "outputs": []
    },
    {
      "cell_type": "code",
      "source": [
        "# disease.head()"
      ],
      "metadata": {
        "id": "pgx-RFyDCyiX"
      },
      "execution_count": 116,
      "outputs": []
    },
    {
      "cell_type": "code",
      "source": [
        "# Segregating the dataset into training and testing\n",
        "\n",
        "disease_x = disease.drop(columns=['Class'])\n",
        "disease_y = disease.iloc[:,-1]\n",
        "\n",
        "X_train, X_test, y_train, y_test = train_test_split(disease_x, disease_y,\n",
        "                                                    test_size=0.33,\n",
        "                                                    random_state=42)\n",
        "\n",
        "def classifier(xtr, xte, ytr, yte, n):\n",
        "  knnclf = neighbors.KNeighborsClassifier(n_neighbors=n)\n",
        "  knnclf.fit(xtr, ytr)\n",
        "\n",
        "  y_predict = knnclf.predict(xte)\n",
        "  print(\"The Acurracy score is:\",accuracy_score(y_pred=y_predict, y_true=yte),\n",
        "        \"for k:\",n)\n",
        "  print(\"The Confusion Matrix is:\")\n",
        "  print(confusion_matrix(y_pred=y_predict, y_true=yte))\n",
        "\n",
        "classifier(X_train, X_test, y_train, y_test, 3)\n",
        "classifier(X_train, X_test, y_train, y_test, 5)\n",
        "classifier(X_train, X_test, y_train, y_test, 7)"
      ],
      "metadata": {
        "colab": {
          "base_uri": "https://localhost:8080/",
          "height": 0
        },
        "id": "QpXqjoyECrmN",
        "outputId": "e2734375-868d-4664-cc67-d9b452d59fd3"
      },
      "execution_count": 117,
      "outputs": [
        {
          "output_type": "stream",
          "name": "stdout",
          "text": [
            "The Acurracy score is: 0.8301886792452831 for k: 3\n",
            "The Confusion Matrix is:\n",
            "[[37  2]\n",
            " [ 7  7]]\n",
            "The Acurracy score is: 0.8490566037735849 for k: 5\n",
            "The Confusion Matrix is:\n",
            "[[39  0]\n",
            " [ 8  6]]\n",
            "The Acurracy score is: 0.8490566037735849 for k: 7\n",
            "The Confusion Matrix is:\n",
            "[[39  0]\n",
            " [ 8  6]]\n"
          ]
        }
      ]
    },
    {
      "cell_type": "markdown",
      "source": [
        "**Problem 2: Plotting Accuracy with respect to k**"
      ],
      "metadata": {
        "id": "rM3Q_5O2OKt_"
      }
    },
    {
      "cell_type": "code",
      "source": [
        "accuracy_val = []\n",
        "k = []\n",
        "\n",
        "for x in range(1, X_train.shape[0]):\n",
        "  k.append(x)\n",
        "  knnclf = neighbors.KNeighborsClassifier(n_neighbors=x)\n",
        "  knnclf.fit(X_train, y_train)\n",
        "\n",
        "  y_predict = knnclf.predict(X_test)\n",
        "  accuracy_val.append(accuracy_score(y_pred=y_predict, y_true=y_test))\n",
        "\n",
        "plt.plot(k, accuracy_val)\n",
        "plt.xlabel(\"K\")\n",
        "plt.ylabel(\"Accuracy\")"
      ],
      "metadata": {
        "colab": {
          "base_uri": "https://localhost:8080/",
          "height": 466
        },
        "id": "NJacRfrYObRd",
        "outputId": "9dd9d4f7-880e-48e5-b134-2e8c34e9427a"
      },
      "execution_count": 118,
      "outputs": [
        {
          "output_type": "execute_result",
          "data": {
            "text/plain": [
              "Text(0, 0.5, 'Accuracy')"
            ]
          },
          "metadata": {},
          "execution_count": 118
        },
        {
          "output_type": "display_data",
          "data": {
            "text/plain": [
              "<Figure size 640x480 with 1 Axes>"
            ],
            "image/png": "[encoded data removed]"
          },
          "metadata": {}
        }
      ]
    },
    {
      "cell_type": "markdown",
      "source": [
        "**Problem 3: Scaled Data kNN modelling**"
      ],
      "metadata": {
        "id": "tvGFOqBZQloz"
      }
    },
    {
      "cell_type": "code",
      "source": [
        "columns_disease = disease.columns\n",
        "\n",
        "scaled_disease_train_nd = preprocessing.minmax_scale(disease)\n",
        "scaled_disease = pd.DataFrame(scaled_disease_train_nd, columns=columns_disease)\n",
        "\n",
        "# Segregating the scaled data into x and y\n",
        "\n",
        "scaled_disease_x = scaled_disease.drop(columns=['Class'])\n",
        "scaled_disease_y = scaled_disease.iloc[:,-1]\n",
        "\n",
        "scx_train, scx_test, scy_train, scy_test = train_test_split(scaled_disease_x,\n",
        "                                                            scaled_disease_y,\n",
        "                                                            train_size=0.33,\n",
        "                                                            random_state=42)\n",
        "\n",
        "classifier(scx_train, scx_test, scy_train, scy_test, 3)\n",
        "classifier(scx_train, scx_test, scy_train, scy_test, 5)\n",
        "classifier(scx_train, scx_test, scy_train, scy_test, 7)"
      ],
      "metadata": {
        "colab": {
          "base_uri": "https://localhost:8080/",
          "height": 0
        },
        "id": "dXAMvDiZRhJX",
        "outputId": "43daf5d2-2930-4198-8c7e-7eb45517c53c"
      },
      "execution_count": 119,
      "outputs": [
        {
          "output_type": "stream",
          "name": "stdout",
          "text": [
            "The Acurracy score is: 0.9811320754716981 for k: 3\n",
            "The Confusion Matrix is:\n",
            "[[75  0]\n",
            " [ 2 29]]\n",
            "The Acurracy score is: 0.9811320754716981 for k: 5\n",
            "The Confusion Matrix is:\n",
            "[[75  0]\n",
            " [ 2 29]]\n",
            "The Acurracy score is: 0.9716981132075472 for k: 7\n",
            "The Confusion Matrix is:\n",
            "[[75  0]\n",
            " [ 3 28]]\n"
          ]
        }
      ]
    },
    {
      "cell_type": "markdown",
      "source": [
        "**As Observed the Accuracy score is incresed to 98% for low values of k**"
      ],
      "metadata": {
        "id": "fnj-xg3FUl04"
      }
    },
    {
      "cell_type": "markdown",
      "source": [
        "**Problem 4: Calculating 3 nearest neighbors for russia and calulating the russian CPI**"
      ],
      "metadata": {
        "id": "_ZW9nE3rVie3"
      }
    },
    {
      "cell_type": "code",
      "source": [
        "russia_train = pd.read_csv(\"/content/sample_data/P4_CorruptionData_Train.csv\")\n",
        "russia_test = pd.read_csv(\"/content/sample_data/P4_CorruptionData_Test.csv\")\n",
        "\n",
        "# Segregating the data into train and test data\n",
        "\n",
        "russia_train_x = russia_train.drop(columns=['CPI', 'Country ID', 'Unnamed: 0'])\n",
        "russia_train_y = russia_train.iloc[:,-1]\n",
        "\n",
        "russia_test_x = russia_test.drop(columns=['CPI', 'Country ID', 'Unnamed: 0'])\n",
        "distances = []\n",
        "\n",
        "for x in range(0, russia_train_x.shape[0]):\n",
        "  row1 = russia_train_x.iloc[x]\n",
        "  row2 = russia_test_x\n",
        "\n",
        "  # Extract data as NumPy arrays\n",
        "  data1 = row1.to_numpy()\n",
        "  data2 = row2.to_numpy()\n",
        "\n",
        "  # Calculating the Euclidean distance\n",
        "  distances.append(np.sqrt(np.sum((data1 - data2)**2)))\n",
        "\n",
        "russia_train['Distances'] = pd.DataFrame(distances)"
      ],
      "metadata": {
        "id": "N59bGdCxUjHi"
      },
      "execution_count": 120,
      "outputs": []
    },
    {
      "cell_type": "code",
      "source": [
        "# Segregating the 3 nearest neighbors\n",
        "\n",
        "filtered3_russia = russia_train.sort_values(by='Distances',\n",
        "                                            ascending=True).iloc[0:3]\n",
        "russia_cpi = filtered3_russia['CPI'].mean()\n",
        "print(\"The CPI of Russia is\",russia_cpi)"
      ],
      "metadata": {
        "colab": {
          "base_uri": "https://localhost:8080/",
          "height": 0
        },
        "id": "mMnl3uI2OczG",
        "outputId": "c5dd0790-c2a6-423e-b568-9ed4be1c3074"
      },
      "execution_count": 121,
      "outputs": [
        {
          "output_type": "stream",
          "name": "stdout",
          "text": [
            "The CPI of Russia is 4.589133333333334\n"
          ]
        }
      ]
    },
    {
      "cell_type": "markdown",
      "source": [
        "**Problem 4 part c**"
      ],
      "metadata": {
        "id": "gYqCP5NLRIEr"
      }
    },
    {
      "cell_type": "code",
      "source": [
        "# updated dataframes\n",
        "a = russia_train.drop(columns='Country ID')\n",
        "b = russia_test.drop(columns='Country ID')\n",
        "ca = a.columns\n",
        "cb = b.columns\n",
        "scaled_russia_train_nd = preprocessing.minmax_scale(a)\n",
        "scaled_russia_test_nd = preprocessing.minmax_scale(b)\n",
        "\n",
        "# Converting scaled data into dataframes\n",
        "scaled_russia_train = pd.DataFrame(scaled_russia_train_nd,\n",
        "                                   columns=ca).drop(columns=['CPI',\n",
        "                                                             'Distances',\n",
        "                                                             'Unnamed: 0'])\n",
        "scaled_russia_test = pd.DataFrame(scaled_russia_test_nd,\n",
        "                                  columns=cb).drop(columns=['CPI',\n",
        "                                                            'Unnamed: 0'])\n",
        "\n",
        "scaled_distances = []\n",
        "for x in range(0, scaled_russia_train.shape[0]):\n",
        "  row1 = scaled_russia_train.iloc[x]\n",
        "  row2 = scaled_russia_test\n",
        "\n",
        "  # Extract data as NumPy arrays\n",
        "  data1 = row1.to_numpy()\n",
        "  data2 = row2.to_numpy()\n",
        "\n",
        "  # Calculating the Euclidean distance\n",
        "  scaled_distances.append(np.sqrt(np.sum((data1 - data2)**2)))\n",
        "\n",
        "russia_train['Scaled Distances'] = pd.DataFrame(scaled_distances)\n",
        "\n",
        "# Segregating the 3 nearest neighbors\n",
        "\n",
        "filtered3_russia = russia_train.sort_values(by='Scaled Distances',\n",
        "                                            ascending=True).iloc[0:3]\n",
        "russia_cpi = filtered3_russia['CPI'].mean()\n",
        "print(\"The CPI of Russia after Scaling is\",russia_cpi)"
      ],
      "metadata": {
        "id": "8xIMjnApRNEA",
        "colab": {
          "base_uri": "https://localhost:8080/",
          "height": 0
        },
        "outputId": "316374d9-dedb-4b79-dc41-2d4d2a80f2db"
      },
      "execution_count": 122,
      "outputs": [
        {
          "output_type": "stream",
          "name": "stdout",
          "text": [
            "The CPI of Russia after Scaling is 3.164633333333333\n"
          ]
        },
        {
          "output_type": "stream",
          "name": "stderr",
          "text": [
            "/usr/local/lib/python3.10/dist-packages/sklearn/preprocessing/_data.py:473: RuntimeWarning: All-NaN slice encountered\n",
            "  data_min = np.nanmin(X, axis=0)\n",
            "/usr/local/lib/python3.10/dist-packages/sklearn/preprocessing/_data.py:474: RuntimeWarning: All-NaN slice encountered\n",
            "  data_max = np.nanmax(X, axis=0)\n"
          ]
        }
      ]
    },
    {
      "cell_type": "markdown",
      "source": [
        "**Problem 4 part e: The Scaling reduced the CPI a bit but it didn't help. It may be because there might be additional parameters that haven't been taken into consideration.**"
      ],
      "metadata": {
        "id": "9TiELdQJ-DY-"
      }
    }
  ]
}