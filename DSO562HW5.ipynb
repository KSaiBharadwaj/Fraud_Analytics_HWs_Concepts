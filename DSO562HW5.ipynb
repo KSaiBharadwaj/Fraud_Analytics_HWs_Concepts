{
  "nbformat": 4,
  "nbformat_minor": 0,
  "metadata": {
    "colab": {
      "provenance": [],
      "authorship_tag": "ABX9TyNCuA0dersLCSJakUutF1+j",
      "include_colab_link": true
    },
    "kernelspec": {
      "name": "python3",
      "display_name": "Python 3"
    },
    "language_info": {
      "name": "python"
    }
  },
  "cells": [
    {
      "cell_type": "markdown",
      "metadata": {
        "id": "view-in-github",
        "colab_type": "text"
      },
      "source": [
        "<a href=\"https://colab.research.google.com/github/KSaiBharadwaj/fraudanalytics/blob/main/DSO562HW5.ipynb\" target=\"_parent\"><img src=\"https://colab.research.google.com/assets/colab-badge.svg\" alt=\"Open In Colab\"/></a>"
      ]
    },
    {
      "cell_type": "markdown",
      "source": [
        "**Problem 1**"
      ],
      "metadata": {
        "id": "5G1_thNSX44a"
      }
    },
    {
      "cell_type": "code",
      "execution_count": 1,
      "metadata": {
        "colab": {
          "base_uri": "https://localhost:8080/"
        },
        "id": "hjtehjQ5mI_y",
        "outputId": "1ec8a80a-3399-4dbf-882d-e20e3c5982b1"
      },
      "outputs": [
        {
          "output_type": "stream",
          "name": "stdout",
          "text": [
            "<class 'pandas.core.frame.DataFrame'>\n",
            "RangeIndex: 6669 entries, 0 to 6668\n",
            "Data columns (total 41 columns):\n",
            " #   Column                  Non-Null Count  Dtype  \n",
            "---  ------                  --------------  -----  \n",
            " 0   isFraud                 6669 non-null   int64  \n",
            " 1   transactionID           6669 non-null   object \n",
            " 2   creditcardID            6669 non-null   object \n",
            " 3   merchantID              6669 non-null   object \n",
            " 4   datetime                6669 non-null   object \n",
            " 5   category                6669 non-null   object \n",
            " 6   country                 6669 non-null   object \n",
            " 7   country_cat             6669 non-null   object \n",
            " 8   age                     6669 non-null   int64  \n",
            " 9   age_cat                 6669 non-null   object \n",
            " 10  zscore_age              6669 non-null   float64\n",
            " 11  minmax_age              6669 non-null   float64\n",
            " 12  amount                  6669 non-null   float64\n",
            " 13  logamt                  6669 non-null   float64\n",
            " 14  zscore_logamt           6669 non-null   float64\n",
            " 15  minmax_logamt           6669 non-null   float64\n",
            " 16  time                    6669 non-null   float64\n",
            " 17  time_CI_flag            6669 non-null   int64  \n",
            " 18  freq_past_card          6669 non-null   int64  \n",
            " 19  freq_past_merc          6669 non-null   int64  \n",
            " 20  white_merchant_flag     6669 non-null   int64  \n",
            " 21  minmax_freq_past_merc   6669 non-null   float64\n",
            " 22  freq_merchantID         6669 non-null   int64  \n",
            " 23  freq_category           6669 non-null   int64  \n",
            " 24  freq_country_cat        6669 non-null   int64  \n",
            " 25  freq_time_CI_flag       6669 non-null   int64  \n",
            " 26  freq_geq_amount         6669 non-null   int64  \n",
            " 27  prob_merchantID         6669 non-null   float64\n",
            " 28  prob_category           6669 non-null   float64\n",
            " 29  prob_country_cat        6669 non-null   float64\n",
            " 30  prob_time_CI_flag       6669 non-null   float64\n",
            " 31  prob_geq_amount         6669 non-null   float64\n",
            " 32  recency                 6669 non-null   float64\n",
            " 33  recency_category        6669 non-null   float64\n",
            " 34  mean_past_amount        6669 non-null   float64\n",
            " 35  delta_mean_past_amount  6669 non-null   float64\n",
            " 36  above_mean_amount_flag  6669 non-null   int64  \n",
            " 37  mean_past_logamt        6669 non-null   float64\n",
            " 38  sd_past_logamt          6669 non-null   float64\n",
            " 39  rolling_zscore_logamt   6669 non-null   float64\n",
            " 40  merchant_rel_degree     6669 non-null   float64\n",
            "dtypes: float64(21), int64(12), object(8)\n",
            "memory usage: 2.1+ MB\n"
          ]
        }
      ],
      "source": [
        "import pandas as pd\n",
        "import matplotlib.pyplot as plt\n",
        "\n",
        "creditdata = pd.read_csv(\"/content/sample_data/creditcard.csv\")\n",
        "creditdata.info()"
      ]
    },
    {
      "cell_type": "code",
      "source": [
        "# using amount column to check benford's law\n",
        "\n",
        "amdt = creditdata[\"amount\"]\n",
        "fdigit = amdt.apply(lambda x:str(x)[0])\n",
        "\n",
        "\n",
        "fdigitlist = []\n",
        "for k in fdigit:\n",
        "  fdigitlist.append(k)\n",
        "\n",
        "# As there are no other values we can sort and plot the values\n",
        "\n",
        "fdigitlist.sort()\n",
        "plt.hist(fdigitlist,bins=(len(set(fdigitlist))))\n",
        "plt.xlabel('Leading Digit')\n",
        "plt.ylabel('Count')"
      ],
      "metadata": {
        "id": "6MHhOiPEgXu2",
        "colab": {
          "base_uri": "https://localhost:8080/",
          "height": 466
        },
        "outputId": "8d680fc1-4dd4-4abe-a708-434088109720"
      },
      "execution_count": 2,
      "outputs": [
        {
          "output_type": "execute_result",
          "data": {
            "text/plain": [
              "Text(0, 0.5, 'Count')"
            ]
          },
          "metadata": {},
          "execution_count": 2
        },
        {
          "output_type": "display_data",
          "data": {
            "text/plain": [
              "<Figure size 640x480 with 1 Axes>"
            ],
            "image/png": "[encoded data removed]"
          },
          "metadata": {}
        }
      ]
    },
    {
      "cell_type": "markdown",
      "source": [
        "Based on initial analysis, the plot follows benford's law."
      ],
      "metadata": {
        "id": "cp7e9_g6uXDh"
      }
    },
    {
      "cell_type": "markdown",
      "source": [
        "**Problem 2**"
      ],
      "metadata": {
        "id": "DNKP8dStX2E4"
      }
    },
    {
      "cell_type": "code",
      "source": [
        "# Creating Fibonnaci series (100)\n",
        "\n",
        "fib = [1,1]\n",
        "mulfib = [7,7]\n",
        "leadfib =[]\n",
        "mulleadfib = []\n",
        "for i in range (2,100):\n",
        "  fib.append(fib[i-1] + fib[i-2])\n",
        "  mulfib.append(7 * (fib[i-1] + fib[i-2]))\n",
        "\n",
        "#Calculating Leading digits of Fibonnaci series and plotting\n",
        "for i in range (len(fib)):\n",
        "  leadfib.append(str(fib[i])[0])\n",
        "  mulleadfib.append(str(mulfib[i])[0])\n",
        "\n",
        "leadfib.sort()\n",
        "mulleadfib.sort()\n",
        "plt.subplot(1,2,1)\n",
        "plt.hist(leadfib, bins=(len(set(leadfib))))\n",
        "plt.title('Fibonnaci Series')\n",
        "plt.xlabel('Leading Digit')\n",
        "plt.ylabel('Count')\n",
        "plt.subplot(1,2,2)\n",
        "plt.hist(mulleadfib, bins=(len(set(mulleadfib))))\n",
        "plt.title('Fibonnaci Series multiplied by 7')\n",
        "plt.xlabel('Leading Digit')\n",
        "plt.ylabel('Count')\n"
      ],
      "metadata": {
        "colab": {
          "base_uri": "https://localhost:8080/",
          "height": 489
        },
        "id": "IdBMBkguuiPU",
        "outputId": "8c25dcc8-44ad-4b94-f2ec-bbd1aed6ebfe"
      },
      "execution_count": 3,
      "outputs": [
        {
          "output_type": "execute_result",
          "data": {
            "text/plain": [
              "Text(0, 0.5, 'Count')"
            ]
          },
          "metadata": {},
          "execution_count": 3
        },
        {
          "output_type": "display_data",
          "data": {
            "text/plain": [
              "<Figure size 640x480 with 2 Axes>"
            ],
            "image/png": "[encoded data removed]"
          },
          "metadata": {}
        }
      ]
    },
    {
      "cell_type": "markdown",
      "source": [
        "**Problem 3**"
      ],
      "metadata": {
        "id": "PBKtaUsyXvn2"
      }
    },
    {
      "cell_type": "code",
      "source": [
        "# Defining the null and alternate hypothesis\n",
        "\n",
        "# Null Hypothesis: H0\n",
        "# The color of plain M&M follows the manufacturer’s stated distribution.\n",
        "# Distribution is same\n",
        "\n",
        "# Alternative Hypothesis: H1\n",
        "# The color of plain M&M follows a different distribution.\n",
        "# Distribution is NOT same\n",
        "\n",
        "# Significance = 0.05\n",
        "\n",
        "import scipy.stats as stats\n",
        "\n",
        "# Data\n",
        "data = {\n",
        "    \"Color\": [\"Brown\", \"Yellow\", \"Red\", \"Blue\", \"Orange\", \"Green\"],\n",
        "    \"Percentage Expected\": [13, 14, 13, 24, 20, 16],\n",
        "    \"Observed Count\": [61, 64, 54, 61, 96, 64]\n",
        "}\n",
        "\n",
        "df = pd.DataFrame(data)\n",
        "\n",
        "df['Expected Count'] = (df['Percentage Expected']/100)*(df['Observed Count'].sum())\n",
        "\n",
        "stats.chisquare(f_obs=df['Observed Count'], f_exp=df['Expected Count'])"
      ],
      "metadata": {
        "id": "yUO8uRrQm5IW",
        "colab": {
          "base_uri": "https://localhost:8080/"
        },
        "outputId": "8a07ac41-2b55-4277-d4ef-9a00df82fb74"
      },
      "execution_count": 4,
      "outputs": [
        {
          "output_type": "execute_result",
          "data": {
            "text/plain": [
              "Power_divergenceResult(statistic=18.737889194139193, pvalue=0.0021505759298004416)"
            ]
          },
          "metadata": {},
          "execution_count": 4
        }
      ]
    },
    {
      "cell_type": "markdown",
      "source": [
        "As the pvalue is 0.002 < 0.05, So we **Reject H0/ Reject Null Hypothesis**"
      ],
      "metadata": {
        "id": "j6sZc8rfBOac"
      }
    },
    {
      "cell_type": "markdown",
      "source": [
        "**Problem 4**"
      ],
      "metadata": {
        "id": "waZzAHPZXs8w"
      }
    },
    {
      "cell_type": "code",
      "source": [
        "# Null Hypothesis: H0\n",
        "# Distribution of birth month is uniform\n",
        "#########################################\n",
        "# Alternative Hypothesis: H1\n",
        "# Distribution of birth month is NOT uniform\n",
        "########################################\n",
        "# Significance = 0.05\n",
        "\n",
        "\n",
        "# Data for Birth Months\n",
        "\n",
        "birth = {\n",
        "    \"Month\" : [\"Jan\", \"Feb\", \"Mar\", \"Apr\", \"May\", \"Jun\", \"Jul\", \"Aug\", \"Sep\", \"Oct\", \"Nov\", \"Dec\"],\n",
        "    \"Observed Frequency\" : [40, 38, 41, 40, 42, 41, 45, 44, 44, 43, 39, 43]\n",
        "}\n",
        "\n",
        "dfb = pd.DataFrame(birth)\n",
        "dfb['Expected Frequency'] = (dfb['Observed Frequency'].sum()/dfb['Observed Frequency'].count())\n",
        "\n",
        "# Calculating the Chi Square and P-Value\n",
        "\n",
        "stats.chisquare(f_obs=dfb['Observed Frequency'], f_exp=dfb[\"Expected Frequency\"])"
      ],
      "metadata": {
        "colab": {
          "base_uri": "https://localhost:8080/"
        },
        "id": "77ilLcvfB-y7",
        "outputId": "d46cd640-f462-45d4-f0f2-4628f47ea7c6"
      },
      "execution_count": 5,
      "outputs": [
        {
          "output_type": "execute_result",
          "data": {
            "text/plain": [
              "Power_divergenceResult(statistic=1.264, pvalue=0.9998363049741172)"
            ]
          },
          "metadata": {},
          "execution_count": 5
        }
      ]
    },
    {
      "cell_type": "markdown",
      "source": [
        "As P Value is 0.9998 > 0.05, we **Fail to Reject the Null Hypothesis i.e., the birth month is Uniform**"
      ],
      "metadata": {
        "id": "i-weGmIAO8X7"
      }
    },
    {
      "cell_type": "markdown",
      "source": [
        "**Problem 5**"
      ],
      "metadata": {
        "id": "a6OQNhgAXoeE"
      }
    },
    {
      "cell_type": "code",
      "source": [
        "# Null Hypothesis: H0\n",
        "# First Digits Distribution Follows Benford's Law\n",
        "#########################################\n",
        "# Alternative Hypothesis: H1\n",
        "# First Digits Distribution does NOT Follow Benford's Law\n",
        "########################################\n",
        "# Significance = 0.01\n",
        "\n",
        "# Data for Digits\n",
        "\n",
        "digit = {\n",
        "    \"Value\" : [\"1\", \"2\", \"3\", \"4\", \"5\", \"6\", \"7\", \"8\", \"9\"],\n",
        "    \"Expected Probability\" : [0.301, 0.176, 0.125, 0.097, 0.079, 0.067, 0.058, 0.051, 0.046],\n",
        "    \"Observed Frequency\" : [36, 32, 28, 26, 23, 17, 15, 16, 7]\n",
        "}\n",
        "\n",
        "dfd = pd.DataFrame(digit)\n",
        "dfd['Expected Frequency'] = (dfd['Expected Probability'] * dfd['Observed Frequency'].sum())\n",
        "\n",
        "# Calculating Chi Square and P-Value\n",
        "\n",
        "stats.chisquare(f_obs=df['Observed Count'], f_exp=df['Expected Count'])\n"
      ],
      "metadata": {
        "colab": {
          "base_uri": "https://localhost:8080/"
        },
        "id": "WDAgOeVnO7Xi",
        "outputId": "15729bad-8a40-4193-9f40-abe1169e1ca4"
      },
      "execution_count": 7,
      "outputs": [
        {
          "output_type": "execute_result",
          "data": {
            "text/plain": [
              "Power_divergenceResult(statistic=18.737889194139193, pvalue=0.0021505759298004416)"
            ]
          },
          "metadata": {},
          "execution_count": 7
        }
      ]
    },
    {
      "cell_type": "markdown",
      "source": [
        "a) We have used the significance as 0.01 for this scenario.\n",
        "\n",
        "c) Based on the P-Value - 0.002 < 0.01, we conclude that **the employee is guilty of Embezzlement as the probability of occcurance is very low**"
      ],
      "metadata": {
        "id": "7SO5gXNYRnvu"
      }
    },
    {
      "cell_type": "code",
      "source": [
        "# Code for Problem Number 6\n",
        "\n",
        "\n",
        "\n",
        "\n",
        "# import numpy as np\n",
        "# from scipy.stats import zscore, iqr\n",
        "\n",
        "# def detectingOutliers(data, column_name):\n",
        "#     results = {}\n",
        "#     r = pd.DataFrame(results)\n",
        "\n",
        "#     # Method 1: Z-score\n",
        "#     data['z_score'] = zscore(data[column_name])\n",
        "#     r['z_output'] =\n",
        "\n",
        "#     # Method 2: Interquartile Range (IQR)\n",
        "#     q1, q3 = np.quantile(data[column_name], [0.25, 0.75])\n",
        "#     iqr = q3 - q1\n",
        "#     lower_limit = q1 - 1.5 * iqr\n",
        "#     upper_limit = q3 + 1.5 * iqr\n",
        "#     iqr_outliers = data[(data[column_name] < lower_limit) | (data[column_name] > upper_limit)].index\n",
        "#     results[\"iqr\"] = {\n",
        "#         \"outlier_indices\": iqr_outliers,\n",
        "#         \"description\": \"Data points outside 1.5x IQR from quartiles\"\n",
        "#     }\n",
        "\n",
        "#     return results\n",
        "\n",
        "# # Example usage\n",
        "# weight_height = pd.read_csv(\"/content/sample_data/weight-height.csv\")\n",
        "# outlier_results = detectingOutliers(weight_height, \"Weight\")\n",
        "# outlier_results"
      ],
      "metadata": {
        "colab": {
          "base_uri": "https://localhost:8080/"
        },
        "id": "425Iia2iSXNS",
        "outputId": "6d6563ef-6508-4b3d-b2cc-c4bc83f9aba9"
      },
      "execution_count": 12,
      "outputs": [
        {
          "output_type": "execute_result",
          "data": {
            "text/plain": [
              "{'iqr': {'outlier_indices': Int64Index([2014], dtype='int64'),\n",
              "  'description': 'Data points outside 1.5x IQR from quartiles'}}"
            ]
          },
          "metadata": {},
          "execution_count": 12
        }
      ]
    }
  ]
}