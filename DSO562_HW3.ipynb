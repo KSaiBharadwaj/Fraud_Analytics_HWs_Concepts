{
  "nbformat": 4,
  "nbformat_minor": 0,
  "metadata": {
    "colab": {
      "provenance": [],
      "authorship_tag": "ABX9TyMoox2NNCmPfslOorpOeR1J",
      "include_colab_link": true
    },
    "kernelspec": {
      "name": "python3",
      "display_name": "Python 3"
    },
    "language_info": {
      "name": "python"
    }
  },
  "cells": [
    {
      "cell_type": "markdown",
      "metadata": {
        "id": "view-in-github",
        "colab_type": "text"
      },
      "source": [
        "<a href=\"https://colab.research.google.com/github/KSaiBharadwaj/fraudanalytics/blob/main/DSO562_HW3.ipynb\" target=\"_parent\"><img src=\"https://colab.research.google.com/assets/colab-badge.svg\" alt=\"Open In Colab\"/></a>"
      ]
    },
    {
      "cell_type": "markdown",
      "source": [
        "Importing required libraries"
      ],
      "metadata": {
        "id": "9eHxW0NPtilc"
      }
    },
    {
      "cell_type": "code",
      "execution_count": 2,
      "metadata": {
        "id": "LFz1E6uJpDqb"
      },
      "outputs": [],
      "source": [
        "import pandas as pd\n",
        "from datetime import date,datetime,time"
      ]
    },
    {
      "cell_type": "markdown",
      "source": [
        "Problem 1: Computing the day of the week of 07-04-1776."
      ],
      "metadata": {
        "id": "usJFEe5wtoAZ"
      }
    },
    {
      "cell_type": "code",
      "source": [
        "idd = date.fromisoformat(\"1776-07-04\")\n",
        "iddt = datetime.fromisoformat(\"1776-07-04\")\n",
        "\n",
        "print(\"Using date - day of the week is \"+idd.strftime(\"%A\"))\n",
        "print(\"Using datetime - day of the week is \"+iddt.strftime(\"%A\"))"
      ],
      "metadata": {
        "colab": {
          "base_uri": "https://localhost:8080/",
          "height": 0
        },
        "id": "QsdkYb9XuZx0",
        "outputId": "53a286b3-9617-4ac8-83b2-9697d6242a95"
      },
      "execution_count": 3,
      "outputs": [
        {
          "output_type": "stream",
          "name": "stdout",
          "text": [
            "Using date - day of the week is Thursday\n",
            "Using datetime - day of the week is Thursday\n"
          ]
        }
      ]
    },
    {
      "cell_type": "markdown",
      "source": [
        "Problem 2: Number of days between World War 1 (1919-11-11) and World War 2 (1939-09-01)"
      ],
      "metadata": {
        "id": "bQs6P8U3J2S7"
      }
    },
    {
      "cell_type": "code",
      "source": [
        "ww1 = datetime.fromisoformat(\"1919-11-11\")\n",
        "ww2 = datetime.fromisoformat(\"1939-09-01\")\n",
        "\n",
        "print(ww2 - ww1)"
      ],
      "metadata": {
        "colab": {
          "base_uri": "https://localhost:8080/",
          "height": 0
        },
        "id": "_FwkeJQsO75l",
        "outputId": "020a2904-05de-46f8-d1ce-e5f9491faf78"
      },
      "execution_count": 4,
      "outputs": [
        {
          "output_type": "stream",
          "name": "stdout",
          "text": [
            "7234 days, 0:00:00\n"
          ]
        }
      ]
    },
    {
      "cell_type": "markdown",
      "source": [
        "Problem 3: RFM Analysis of Small mail order Catalog company"
      ],
      "metadata": {
        "id": "vLD2M5xCaGhd"
      }
    },
    {
      "cell_type": "code",
      "source": [
        "import numpy as np\n",
        "from sklearn import preprocessing\n",
        "\n",
        "dataRfm = pd.read_csv(\"/content/sample_data/Date RFMdata.csv\")\n",
        "dataRfm.info()"
      ],
      "metadata": {
        "colab": {
          "base_uri": "https://localhost:8080/",
          "height": 0
        },
        "id": "5KpGrywHbFhW",
        "outputId": "17364019-60d2-419c-b5f6-324056493cd5"
      },
      "execution_count": 6,
      "outputs": [
        {
          "output_type": "stream",
          "name": "stdout",
          "text": [
            "<class 'pandas.core.frame.DataFrame'>\n",
            "RangeIndex: 3915 entries, 0 to 3914\n",
            "Data columns (total 3 columns):\n",
            " #   Column    Non-Null Count  Dtype  \n",
            "---  ------    --------------  -----  \n",
            " 0   Customer  3915 non-null   int64  \n",
            " 1   Date      3915 non-null   object \n",
            " 2   Size      3915 non-null   float64\n",
            "dtypes: float64(1), int64(1), object(1)\n",
            "memory usage: 91.9+ KB\n"
          ]
        }
      ]
    },
    {
      "cell_type": "code",
      "source": [
        "# Date Column is stored as object, converting into datetime format\n",
        "dataRfm[\"CDate\"] = pd.to_datetime(dataRfm[\"Date\"])\n",
        "dataRfm.info()\n",
        "today = datetime.fromisoformat(\"2023-09-08\")"
      ],
      "metadata": {
        "colab": {
          "base_uri": "https://localhost:8080/",
          "height": 0
        },
        "id": "LOIZIukccGBU",
        "outputId": "ebc09084-03f7-47f1-d81a-b8c0603ec658"
      },
      "execution_count": 9,
      "outputs": [
        {
          "output_type": "stream",
          "name": "stdout",
          "text": [
            "<class 'pandas.core.frame.DataFrame'>\n",
            "RangeIndex: 3915 entries, 0 to 3914\n",
            "Data columns (total 4 columns):\n",
            " #   Column    Non-Null Count  Dtype         \n",
            "---  ------    --------------  -----         \n",
            " 0   Customer  3915 non-null   int64         \n",
            " 1   Date      3915 non-null   object        \n",
            " 2   Size      3915 non-null   float64       \n",
            " 3   CDate     3915 non-null   datetime64[ns]\n",
            "dtypes: datetime64[ns](1), float64(1), int64(1), object(1)\n",
            "memory usage: 122.5+ KB\n"
          ]
        }
      ]
    },
    {
      "cell_type": "code",
      "source": [
        "dataRfm.head()"
      ],
      "metadata": {
        "colab": {
          "base_uri": "https://localhost:8080/",
          "height": 206
        },
        "id": "7y93C7-1n0Vo",
        "outputId": "add08dfe-19e1-4b9c-937a-8c1bcb6f397b"
      },
      "execution_count": 8,
      "outputs": [
        {
          "output_type": "execute_result",
          "data": {
            "text/plain": [
              "   Customer       Date   Size      CDate\n",
              "0        22  9/15/2017  100.0 2017-09-15\n",
              "1        58  7/25/2021  100.0 2021-07-25\n",
              "2       142   1/4/2013  100.0 2013-01-04\n",
              "3       160  1/25/2021  100.0 2021-01-25\n",
              "4       203  5/16/2022  100.0 2022-05-16"
            ],
            "text/html": [
              "\n",
              "  <div id=\"df-ac56d1b3-8036-4953-b9d3-c7cebdf4e001\" class=\"colab-df-container\">\n",
              "    <div>\n",
              "<style scoped>\n",
              "    .dataframe tbody tr th:only-of-type {\n",
              "        vertical-align: middle;\n",
              "    }\n",
              "\n",
              "    .dataframe tbody tr th {\n",
              "        vertical-align: top;\n",
              "    }\n",
              "\n",
              "    .dataframe thead th {\n",
              "        text-align: right;\n",
              "    }\n",
              "</style>\n",
              "<table border=\"1\" class=\"dataframe\">\n",
              "  <thead>\n",
              "    <tr style=\"text-align: right;\">\n",
              "      <th></th>\n",
              "      <th>Customer</th>\n",
              "      <th>Date</th>\n",
              "      <th>Size</th>\n",
              "      <th>CDate</th>\n",
              "    </tr>\n",
              "  </thead>\n",
              "  <tbody>\n",
              "    <tr>\n",
              "      <th>0</th>\n",
              "      <td>22</td>\n",
              "      <td>9/15/2017</td>\n",
              "      <td>100.0</td>\n",
              "      <td>2017-09-15</td>\n",
              "    </tr>\n",
              "    <tr>\n",
              "      <th>1</th>\n",
              "      <td>58</td>\n",
              "      <td>7/25/2021</td>\n",
              "      <td>100.0</td>\n",
              "      <td>2021-07-25</td>\n",
              "    </tr>\n",
              "    <tr>\n",
              "      <th>2</th>\n",
              "      <td>142</td>\n",
              "      <td>1/4/2013</td>\n",
              "      <td>100.0</td>\n",
              "      <td>2013-01-04</td>\n",
              "    </tr>\n",
              "    <tr>\n",
              "      <th>3</th>\n",
              "      <td>160</td>\n",
              "      <td>1/25/2021</td>\n",
              "      <td>100.0</td>\n",
              "      <td>2021-01-25</td>\n",
              "    </tr>\n",
              "    <tr>\n",
              "      <th>4</th>\n",
              "      <td>203</td>\n",
              "      <td>5/16/2022</td>\n",
              "      <td>100.0</td>\n",
              "      <td>2022-05-16</td>\n",
              "    </tr>\n",
              "  </tbody>\n",
              "</table>\n",
              "</div>\n",
              "    <div class=\"colab-df-buttons\">\n",
              "\n",
              "  <div class=\"colab-df-container\">\n",
              "    <button class=\"colab-df-convert\" onclick=\"convertToInteractive('df-ac56d1b3-8036-4953-b9d3-c7cebdf4e001')\"\n",
              "            title=\"Convert this dataframe to an interactive table.\"\n",
              "            style=\"display:none;\">\n",
              "\n",
              "  <svg xmlns=\"http://www.w3.org/2000/svg\" height=\"24px\" viewBox=\"0 -960 960 960\">\n",
              "    <path d=\"M120-120v-720h720v720H120Zm60-500h600v-160H180v160Zm220 220h160v-160H400v160Zm0 220h160v-160H400v160ZM180-400h160v-160H180v160Zm440 0h160v-160H620v160ZM180-180h160v-160H180v160Zm440 0h160v-160H620v160Z\"/>\n",
              "  </svg>\n",
              "    </button>\n",
              "\n",
              "  <style>\n",
              "    .colab-df-container {\n",
              "      display:flex;\n",
              "      gap: 12px;\n",
              "    }\n",
              "\n",
              "    .colab-df-convert {\n",
              "      background-color: #E8F0FE;\n",
              "      border: none;\n",
              "      border-radius: 50%;\n",
              "      cursor: pointer;\n",
              "      display: none;\n",
              "      fill: #1967D2;\n",
              "      height: 32px;\n",
              "      padding: 0 0 0 0;\n",
              "      width: 32px;\n",
              "    }\n",
              "\n",
              "    .colab-df-convert:hover {\n",
              "      background-color: #E2EBFA;\n",
              "      box-shadow: 0px 1px 2px rgba(60, 64, 67, 0.3), 0px 1px 3px 1px rgba(60, 64, 67, 0.15);\n",
              "      fill: #174EA6;\n",
              "    }\n",
              "\n",
              "    .colab-df-buttons div {\n",
              "      margin-bottom: 4px;\n",
              "    }\n",
              "\n",
              "    [theme=dark] .colab-df-convert {\n",
              "      background-color: #3B4455;\n",
              "      fill: #D2E3FC;\n",
              "    }\n",
              "\n",
              "    [theme=dark] .colab-df-convert:hover {\n",
              "      background-color: #434B5C;\n",
              "      box-shadow: 0px 1px 3px 1px rgba(0, 0, 0, 0.15);\n",
              "      filter: drop-shadow(0px 1px 2px rgba(0, 0, 0, 0.3));\n",
              "      fill: #FFFFFF;\n",
              "    }\n",
              "  </style>\n",
              "\n",
              "    <script>\n",
              "      const buttonEl =\n",
              "        document.querySelector('#df-ac56d1b3-8036-4953-b9d3-c7cebdf4e001 button.colab-df-convert');\n",
              "      buttonEl.style.display =\n",
              "        google.colab.kernel.accessAllowed ? 'block' : 'none';\n",
              "\n",
              "      async function convertToInteractive(key) {\n",
              "        const element = document.querySelector('#df-ac56d1b3-8036-4953-b9d3-c7cebdf4e001');\n",
              "        const dataTable =\n",
              "          await google.colab.kernel.invokeFunction('convertToInteractive',\n",
              "                                                    [key], {});\n",
              "        if (!dataTable) return;\n",
              "\n",
              "        const docLinkHtml = 'Like what you see? Visit the ' +\n",
              "          '<a target=\"_blank\" href=https://colab.research.google.com/notebooks/data_table.ipynb>data table notebook</a>'\n",
              "          + ' to learn more about interactive tables.';\n",
              "        element.innerHTML = '';\n",
              "        dataTable['output_type'] = 'display_data';\n",
              "        await google.colab.output.renderOutput(dataTable, element);\n",
              "        const docLink = document.createElement('div');\n",
              "        docLink.innerHTML = docLinkHtml;\n",
              "        element.appendChild(docLink);\n",
              "      }\n",
              "    </script>\n",
              "  </div>\n",
              "\n",
              "\n",
              "<div id=\"df-ee39894d-a9bd-4189-afa4-a4278e91172c\">\n",
              "  <button class=\"colab-df-quickchart\" onclick=\"quickchart('df-ee39894d-a9bd-4189-afa4-a4278e91172c')\"\n",
              "            title=\"Suggest charts\"\n",
              "            style=\"display:none;\">\n",
              "\n",
              "<svg xmlns=\"http://www.w3.org/2000/svg\" height=\"24px\"viewBox=\"0 0 24 24\"\n",
              "     width=\"24px\">\n",
              "    <g>\n",
              "        <path d=\"M19 3H5c-1.1 0-2 .9-2 2v14c0 1.1.9 2 2 2h14c1.1 0 2-.9 2-2V5c0-1.1-.9-2-2-2zM9 17H7v-7h2v7zm4 0h-2V7h2v10zm4 0h-2v-4h2v4z\"/>\n",
              "    </g>\n",
              "</svg>\n",
              "  </button>\n",
              "\n",
              "<style>\n",
              "  .colab-df-quickchart {\n",
              "      --bg-color: #E8F0FE;\n",
              "      --fill-color: #1967D2;\n",
              "      --hover-bg-color: #E2EBFA;\n",
              "      --hover-fill-color: #174EA6;\n",
              "      --disabled-fill-color: #AAA;\n",
              "      --disabled-bg-color: #DDD;\n",
              "  }\n",
              "\n",
              "  [theme=dark] .colab-df-quickchart {\n",
              "      --bg-color: #3B4455;\n",
              "      --fill-color: #D2E3FC;\n",
              "      --hover-bg-color: #434B5C;\n",
              "      --hover-fill-color: #FFFFFF;\n",
              "      --disabled-bg-color: #3B4455;\n",
              "      --disabled-fill-color: #666;\n",
              "  }\n",
              "\n",
              "  .colab-df-quickchart {\n",
              "    background-color: var(--bg-color);\n",
              "    border: none;\n",
              "    border-radius: 50%;\n",
              "    cursor: pointer;\n",
              "    display: none;\n",
              "    fill: var(--fill-color);\n",
              "    height: 32px;\n",
              "    padding: 0;\n",
              "    width: 32px;\n",
              "  }\n",
              "\n",
              "  .colab-df-quickchart:hover {\n",
              "    background-color: var(--hover-bg-color);\n",
              "    box-shadow: 0 1px 2px rgba(60, 64, 67, 0.3), 0 1px 3px 1px rgba(60, 64, 67, 0.15);\n",
              "    fill: var(--button-hover-fill-color);\n",
              "  }\n",
              "\n",
              "  .colab-df-quickchart-complete:disabled,\n",
              "  .colab-df-quickchart-complete:disabled:hover {\n",
              "    background-color: var(--disabled-bg-color);\n",
              "    fill: var(--disabled-fill-color);\n",
              "    box-shadow: none;\n",
              "  }\n",
              "\n",
              "  .colab-df-spinner {\n",
              "    border: 2px solid var(--fill-color);\n",
              "    border-color: transparent;\n",
              "    border-bottom-color: var(--fill-color);\n",
              "    animation:\n",
              "      spin 1s steps(1) infinite;\n",
              "  }\n",
              "\n",
              "  @keyframes spin {\n",
              "    0% {\n",
              "      border-color: transparent;\n",
              "      border-bottom-color: var(--fill-color);\n",
              "      border-left-color: var(--fill-color);\n",
              "    }\n",
              "    20% {\n",
              "      border-color: transparent;\n",
              "      border-left-color: var(--fill-color);\n",
              "      border-top-color: var(--fill-color);\n",
              "    }\n",
              "    30% {\n",
              "      border-color: transparent;\n",
              "      border-left-color: var(--fill-color);\n",
              "      border-top-color: var(--fill-color);\n",
              "      border-right-color: var(--fill-color);\n",
              "    }\n",
              "    40% {\n",
              "      border-color: transparent;\n",
              "      border-right-color: var(--fill-color);\n",
              "      border-top-color: var(--fill-color);\n",
              "    }\n",
              "    60% {\n",
              "      border-color: transparent;\n",
              "      border-right-color: var(--fill-color);\n",
              "    }\n",
              "    80% {\n",
              "      border-color: transparent;\n",
              "      border-right-color: var(--fill-color);\n",
              "      border-bottom-color: var(--fill-color);\n",
              "    }\n",
              "    90% {\n",
              "      border-color: transparent;\n",
              "      border-bottom-color: var(--fill-color);\n",
              "    }\n",
              "  }\n",
              "</style>\n",
              "\n",
              "  <script>\n",
              "    async function quickchart(key) {\n",
              "      const quickchartButtonEl =\n",
              "        document.querySelector('#' + key + ' button');\n",
              "      quickchartButtonEl.disabled = true;  // To prevent multiple clicks.\n",
              "      quickchartButtonEl.classList.add('colab-df-spinner');\n",
              "      try {\n",
              "        const charts = await google.colab.kernel.invokeFunction(\n",
              "            'suggestCharts', [key], {});\n",
              "      } catch (error) {\n",
              "        console.error('Error during call to suggestCharts:', error);\n",
              "      }\n",
              "      quickchartButtonEl.classList.remove('colab-df-spinner');\n",
              "      quickchartButtonEl.classList.add('colab-df-quickchart-complete');\n",
              "    }\n",
              "    (() => {\n",
              "      let quickchartButtonEl =\n",
              "        document.querySelector('#df-ee39894d-a9bd-4189-afa4-a4278e91172c button');\n",
              "      quickchartButtonEl.style.display =\n",
              "        google.colab.kernel.accessAllowed ? 'block' : 'none';\n",
              "    })();\n",
              "  </script>\n",
              "</div>\n",
              "\n",
              "    </div>\n",
              "  </div>\n"
            ]
          },
          "metadata": {},
          "execution_count": 8
        }
      ]
    },
    {
      "cell_type": "code",
      "source": [
        "# Calculating Recency\n",
        "recency = dataRfm.groupby('Customer').agg({\"CDate\" : lambda x : ((today-x.max()).days)})"
      ],
      "metadata": {
        "id": "fqEy0Zt-oXkj"
      },
      "execution_count": 17,
      "outputs": []
    },
    {
      "cell_type": "code",
      "source": [
        "# Calculating Frequency and Monetary\n",
        "frequency = dataRfm.groupby('Customer')[\"Size\"].count()\n",
        "monetary = dataRfm.groupby('Customer')[\"Size\"].sum()\n",
        "\n",
        "# Creating Recency Table\n",
        "\n",
        "recency.columns = [\"Recency\"]\n",
        "frequency.columns = [\"Frequency\"]\n",
        "monetary.columns = [\"Monetary\"]\n",
        "\n",
        "RFM = pd.concat([recency,frequency,monetary], axis=1)\n",
        "\n",
        "# Scaling RFM to a scale 0f 0 - 10\n",
        "\n",
        "rfmScaled = preprocessing.minmax_scale(RFM)\n",
        "\n",
        "rfmScaled[:,0] = (1 - rfmScaled[:,0])*10\n",
        "rfmScaled[:,1] = (rfmScaled[:,1])*10\n",
        "rfmScaled[:,2] = (rfmScaled[:,2])*10\n",
        "\n",
        "# Cocainating the Columns to the Main table\n",
        "\n",
        "RFM[\"Scaled_Recency\"] = rfmScaled[:,0]\n",
        "RFM[\"Scaled_Frequency\"] = rfmScaled[:,1]\n",
        "RFM[\"Scaled_Monetary\"] = rfmScaled[:,2]\n",
        "\n",
        "# Calulating the Sum for RFM Analysis\n",
        "\n",
        "RFM[\"SUM_Scaled_RFM\"] = RFM[\"Scaled_Recency\"] + RFM[\"Scaled_Frequency\"] + RFM[\"Scaled_Monetary\"]\n",
        "\n",
        "RFM[\"SUM_Scaled_RFM\"].sort_values(ascending=False).head(5)"
      ],
      "metadata": {
        "colab": {
          "base_uri": "https://localhost:8080/",
          "height": 0
        },
        "id": "888bYerktpEn",
        "outputId": "a559687d-3d8d-4b92-c154-8c4656db8a28"
      },
      "execution_count": 31,
      "outputs": [
        {
          "output_type": "execute_result",
          "data": {
            "text/plain": [
              "Customer\n",
              "180    28.406910\n",
              "37     26.915562\n",
              "161    25.660998\n",
              "224    23.777619\n",
              "114    22.881434\n",
              "Name: SUM_Scaled_RFM, dtype: float64"
            ]
          },
          "metadata": {},
          "execution_count": 31
        }
      ]
    },
    {
      "cell_type": "markdown",
      "source": [
        "Plotting using Plotly"
      ],
      "metadata": {
        "id": "oMcSA_l5znY8"
      }
    },
    {
      "cell_type": "code",
      "source": [
        "import plotly.express as px\n",
        "import plotly.io as pio\n",
        "\n",
        "figure = px.scatter_3d(\n",
        "    data_frame=RFM,\n",
        "    x = \"Scaled_Recency\",\n",
        "    y = \"Scaled_Frequency\",\n",
        "    z = \"Scaled_Monetary\",\n",
        "    template = \"plotly_dark\",\n",
        "    title = \"RFM Plot\"\n",
        ")\n",
        "\n",
        "pio.show(figure)"
      ],
      "metadata": {
        "colab": {
          "base_uri": "https://localhost:8080/",
          "height": 542
        },
        "id": "ufJku8IEzqX4",
        "outputId": "c8ca7bd4-2f58-4084-895e-01fa112789ae"
      },
      "execution_count": 36,
      "outputs": [
        {
          "output_type": "display_data",
          "data": {
            "text/html": [
              "<html>\n",
              "<head><meta charset=\"utf-8\" /></head>\n",
              "<body>\n",
              "    <div>            <script src=\"https://cdnjs.cloudflare.com/ajax/libs/mathjax/2.7.5/MathJax.js?config=TeX-AMS-MML_SVG\"></script><script type=\"text/javascript\">if (window.MathJax && window.MathJax.Hub && window.MathJax.Hub.Config) {window.MathJax.Hub.Config({SVG: {font: \"STIX-Web\"}});}</script>                <script type=\"text/javascript\">window.PlotlyConfig = {MathJaxConfig: 'local'};</script>\n",
              "        <script charset=\"utf-8\" src=\"https://cdn.plot.ly/plotly-2.24.1.min.js\"></script>                <div id=\"82e018f0-5995-4a7e-98c1-6dd1d9563c7a\" class=\"plotly-graph-div\" style=\"height:525px; width:100%;\"></div>            <script type=\"text/javascript\">                                    window.PLOTLYENV=window.PLOTLYENV || {};                                    if (document.getElementById(\"82e018f0-5995-4a7e-98c1-6dd1d9563c7a\")) {                    Plotly.newPlot(                        \"82e018f0-5995-4a7e-98c1-6dd1d9563c7a\",                        [{\"hovertemplate\":\"Scaled_Recency=%{x}\\u003cbr\\u003eScaled_Frequency=%{y}\\u003cbr\\u003eScaled_Monetary=%{z}\\u003cextra\\u003e\\u003c\\u002fextra\\u003e\",\"legendgroup\":\"\",\"marker\":{\"color\":\"#636efa\",\"symbol\":\"circle\"},\"mode\":\"markers\",\"name\":\"\",\"scene\":\"scene\",\"showlegend\":false,\"x\":[7.159309021113244,9.619961612284069,3.9731285988483678,8.848368522072937,4.37236084452975,8.840690978886755,7.462571976967371,9.047984644913626,9.205374280230327,9.174664107485604,9.677543186180422,5.182341650671784,8.257197696737045,8.341650671785029,9.289827255278311,7.470249520153551,9.927063339731285,9.259117082533589,7.566218809980806,9.385796545105567,7.366602687140116,5.071017274472169,8.859884836852208,9.704414587332055,9.658349328214971,9.504798464491364,9.028790786948177,9.796545105566219,3.262955854126679,4.72552783109405,9.435700575815739,8.595009596928984,9.27063339731286,8.019193857965451,6.452975047984645,8.648752399232245,9.99616122840691,9.6468330134357,7.83493282149712,9.163147792706335,9.82341650671785,8.468330134357005,9.428023032629559,9.159309021113245,6.967370441458733,9.934740882917467,8.203454894433781,7.957773512476008,9.715930902111324,9.397312859884837,9.84644913627639,8.072936660268715,5.811900191938579,5.554702495201536,7.512476007677543,9.593090211132438,7.689059500959693,8.161228406909789,9.788867562380037,9.719769673704414,9.704414587332055,9.723608445297504,8.257197696737045,9.324376199616122,9.26295585412668,10.0,8.387715930902111,8.080614203454894,6.8522072936660265,9.831094049904031,7.700575815738963,5.347408829174665,9.113243761996161,9.857965451055662,7.773512476007678,8.17658349328215,8.798464491362765,9.347408829174665,8.157389635316699,8.733205374280232,7.25911708253359,7.178502879078694,9.312859884836852,6.5796545105566215,9.186180422264876,6.790786948176583,9.965451055662188,9.193857965451055,9.205374280230327,9.047984644913626,8.710172744721689,9.742802303262955,5.078694817658349,9.520153550863723,9.297504798464491,8.844529750479847,8.952015355086372,8.049904030710174,9.880998080614203,9.938579654510557,6.230326295585414,8.694817658349328,9.708253358925145,9.213051823416507,8.51823416506718,9.596928982725528,1.4932821497120918,9.355086372360844,4.702495201535508,9.84644913627639,9.408829174664108,9.397312859884837,7.596928982725528,9.769673704414588,8.821497120921306,9.466410748560461,9.930902111324377,9.335892514395393,9.213051823416507,8.280230326295586,7.692898272552783,7.497120921305182,9.166986564299425,8.579654510556622,9.071017274472169,5.543186180422264,9.980806142034549,8.806142034548945,9.320537428023032,9.4510556621881,9.904030710172744,0.0,8.840690978886755,8.165067178502879,9.0595009596929,9.930902111324377,7.63915547024952,8.026871401151631,9.907869481765836,9.393474088291747,5.589251439539346,4.902111324376199,8.825335892514396,7.554702495201536,8.015355086372361,7.600767754318618,9.26295585412668,8.14971209213052,8.130518234165066,9.6084452975048,9.842610364683303,9.174664107485604,7.024952015355086,8.330134357005758,9.12092130518234,7.957773512476008,9.942418426103647,8.226487523992322,8.610364683301343,9.719769673704414,9.980806142034549,9.197696737044145,7.213051823416507,7.140115163147794,9.99616122840691,8.683301343570058,5.7850287907869475,8.506717850287908,7.992322456813819,9.205374280230327,9.520153550863723,8.879078694817657,9.040307101727446,9.08637236084453,9.904030710172744,9.105566218809981,10.0,8.591170825335892,6.529750479846449,8.406909788867562,8.18426103646833,7.562380038387716,9.63531669865643,9.412667946257198,9.285988483685221,9.45873320537428,9.28214971209213,8.065259117082533,8.142034548944338,8.978886756238003,6.752399232245681,8.994241842610364,9.424184261036467,9.06333973128599,6.886756238003839,8.452975047984646,9.712092130518235,9.704414587332055,8.817658349328214,5.577735124760077,9.919385796545106,6.833013435700575,8.894433781190019,5.64299424184261,9.047984644913626,9.332053742802303,9.85412667946257,9.289827255278311,5.416506717850287,5.481765834932821,8.591170825335892,9.466410748560461,9.677543186180422,9.689059500959692,8.587332053742802,9.27447216890595,5.923224568138195,9.558541266794625,8.276391554702496,9.85412667946257,8.794625719769673,9.101727447216891,9.477927063339731,9.950095969289826,8.856046065259118,8.756238003838773,8.871401151631478,8.322456813819578,9.190019193857966,9.642994241842612,8.479846449136277,9.727447216890594,8.687140115163148,9.923224568138195,9.654510556621881,7.301343570057581,6.771593090211132,8.90978886756238,6.690978886756238,6.894433781190019,6.3301343570057576,9.570057581573897,9.404990403071018,9.911708253358926,9.96928982725528,7.689059500959693,7.961612284069098,8.218809980806142,9.420345489443378,7.109404990403071,7.8733205374280235,8.403071017274472,9.45873320537428,9.036468330134358,8.130518234165066,8.925143953934741],\"y\":[4.090909090909092,2.272727272727273,3.1818181818181825,4.545454545454546,1.8181818181818188,2.272727272727273,3.1818181818181825,3.6363636363636367,5.909090909090909,2.727272727272727,5.454545454545455,2.272727272727273,4.545454545454546,3.6363636363636367,5.454545454545455,4.545454545454546,3.1818181818181825,5.0,3.1818181818181825,2.727272727272727,5.454545454545455,5.0,4.090909090909092,2.272727272727273,5.909090909090909,5.0,5.909090909090909,5.0,4.545454545454546,5.0,3.1818181818181825,0.9090909090909094,4.545454545454546,5.0,4.090909090909092,4.545454545454546,9.545454545454547,6.818181818181818,5.0,2.727272727272727,5.0,1.3636363636363642,5.0,2.272727272727273,5.0,4.545454545454546,5.0,4.545454545454546,0.9090909090909094,2.727272727272727,4.090909090909092,5.0,2.727272727272727,4.090909090909092,5.909090909090909,4.545454545454546,6.818181818181818,3.1818181818181825,6.818181818181818,2.272727272727273,2.727272727272727,4.545454545454546,4.090909090909092,6.363636363636365,4.545454545454546,5.909090909090909,4.090909090909092,6.363636363636365,2.727272727272727,5.0,5.454545454545455,5.454545454545455,6.363636363636365,5.0,4.545454545454546,5.454545454545455,5.909090909090909,6.818181818181818,4.545454545454546,3.6363636363636367,0.4545454545454547,3.6363636363636367,1.8181818181818188,6.818181818181818,4.545454545454546,1.8181818181818188,5.909090909090909,4.090909090909092,4.545454545454546,6.363636363636365,3.6363636363636367,2.727272727272727,1.8181818181818188,5.0,5.454545454545455,5.454545454545455,4.090909090909092,5.0,6.363636363636365,3.1818181818181825,2.272727272727273,1.8181818181818188,4.545454545454546,5.0,4.545454545454546,5.454545454545455,2.272727272727273,5.0,4.090909090909092,5.454545454545455,6.363636363636365,5.454545454545455,5.0,7.272727272727273,6.363636363636365,3.6363636363636367,4.545454545454546,7.272727272727273,2.272727272727273,3.6363636363636367,2.727272727272727,5.909090909090909,0.0,4.090909090909092,4.090909090909092,1.3636363636363642,3.1818181818181825,3.1818181818181825,5.909090909090909,5.0,5.0,1.3636363636363642,5.0,7.727272727272727,6.363636363636365,0.9090909090909094,2.727272727272727,3.6363636363636367,2.272727272727273,4.545454545454546,4.090909090909092,3.1818181818181825,2.727272727272727,5.0,4.090909090909092,4.090909090909092,0.9090909090909094,5.909090909090909,2.727272727272727,5.909090909090909,0.4545454545454547,1.8181818181818188,5.454545454545455,3.6363636363636367,0.0,3.1818181818181825,3.1818181818181825,2.272727272727273,4.090909090909092,4.090909090909092,7.727272727272727,3.6363636363636367,4.090909090909092,5.0,6.363636363636365,2.272727272727273,2.727272727272727,3.1818181818181825,4.545454545454546,6.363636363636365,1.8181818181818188,4.090909090909092,4.545454545454546,3.6363636363636367,5.454545454545455,4.545454545454546,3.6363636363636367,6.818181818181818,4.545454545454546,10.0,1.3636363636363642,2.272727272727273,4.545454545454546,5.909090909090909,2.727272727272727,5.909090909090909,2.727272727272727,3.6363636363636367,6.818181818181818,1.8181818181818188,2.272727272727273,3.1818181818181825,5.0,5.454545454545455,2.727272727272727,5.909090909090909,3.6363636363636367,3.1818181818181825,7.727272727272727,4.545454545454546,4.090909090909092,3.6363636363636367,5.909090909090909,2.727272727272727,5.909090909090909,6.363636363636365,4.090909090909092,5.0,1.8181818181818188,5.0,5.909090909090909,6.818181818181818,5.454545454545455,5.0,3.6363636363636367,2.272727272727273,3.1818181818181825,5.454545454545455,5.909090909090909,5.0,3.6363636363636367,0.9090909090909094,0.9090909090909094,7.272727272727273,3.1818181818181825,4.090909090909092,5.909090909090909,3.6363636363636367,2.727272727272727,1.3636363636363642,1.3636363636363642,3.6363636363636367,4.545454545454546,3.6363636363636367,5.454545454545455,5.0,6.363636363636365,5.0,1.8181818181818188,6.363636363636365,4.545454545454546,5.454545454545455,2.727272727272727,2.727272727272727,4.090909090909092,6.363636363636365,5.0,2.727272727272727,5.0,3.6363636363636367,7.272727272727273,3.6363636363636367,3.6363636363636367,3.1818181818181825,4.090909090909092,4.545454545454546],\"z\":[4.138698902497217,2.400190870049308,2.767615714967393,4.149832988706856,1.0434229362175917,2.0709400349928426,3.333863527914745,3.7680928900906636,4.409098139017019,2.6006044218228093,5.754731986639097,1.4442500397645937,3.068236042627644,3.171623986002863,5.743597900429458,4.862414506123748,3.1080006362334984,5.530459678702084,3.492921902338158,2.624463177986321,5.492285668840465,5.145538412597423,4.294576109432161,2.042309527596628,5.180531254970575,4.453634483855574,5.875616351200891,4.103706060124066,4.1243836487991095,4.7510736440273575,3.8189915699061556,1.0847781135676793,4.895816764752665,5.140766661364722,3.772864641323366,4.289804358199459,7.373946238269444,6.340066804517257,5.702242723079369,2.2697630030221094,4.048035629075871,1.5858119930014314,4.213456338476221,1.7941784634961033,4.72880547160808,3.683791951646254,4.203912836010816,4.814696993796724,0.7332591060919358,2.6578654366152374,4.399554636551614,4.587243518371243,2.29680292667409,4.409098139017019,6.045808811833943,4.623826944488628,6.480038174009861,2.7342134563384763,5.783362494035311,1.122952123429299,2.3620168601876887,3.7490058851598533,4.071894385239384,6.023540639414666,4.342293621759186,4.9037696834738345,3.8619373310004774,6.228725942420869,1.709877525051694,5.128041991410848,4.711309050421504,3.9764593605853356,5.35231429934786,4.623826944488628,4.024176872912359,4.248449180849373,5.777000159058375,6.476857006521392,4.47113090504215,3.9462382694448865,0.3356131700334025,3.314776522983935,1.7178304437728649,6.860187688881821,4.3375218705264835,1.1261332909177668,5.889931604898999,3.332272944170511,3.8555749960235404,5.600445363448385,2.8614601558772073,2.4542707173532685,2.163193892158422,4.27071735326865,4.926037855893114,5.684746301892796,3.2352473357722284,5.185303006203277,5.010338794337521,2.8630507396214417,2.529028153332273,2.3079370128837287,4.975345951964371,5.301415619532368,3.372037537776364,4.3311595355495465,2.115476379831398,3.9557817719102912,3.739462382694449,4.313663114362972,6.114203912836011,4.9546683632893265,5.007157626849055,5.8390329250835045,5.1105455702242715,3.206616828376014,4.173691744870368,5.240973437251471,2.2299984094162557,2.9505328455543185,2.2490854143470655,5.916971528550978,0.0,3.9621441068872283,4.499761412438365,1.520598059487832,2.2220454906950855,3.384762207730237,4.001908700493082,5.145538412597423,4.706537299188803,1.9373310004771755,4.393192301574678,6.9699379672339745,4.359790042945761,1.3901701924606331,3.295689518053126,3.123906473675839,2.513122315889932,3.756958803881025,4.348655956736122,2.288850007952919,2.8678224908541434,5.166216001272468,3.6774296166693183,4.865595673612216,0.6966756799745505,3.916017178304438,2.094798791156354,5.315730873230475,1.2199777318275806,2.1536503896930177,5.258469858438046,3.5788134245268015,0.39287418482583103,2.4940353109591222,2.5624304119611896,1.6351200890726898,3.86670908223318,3.771274057579132,7.95291872117067,3.6217591856211233,3.772864641323366,5.363448385557499,5.372991888022904,2.15842214092572,2.177509145856529,3.3449976141243836,4.315253698107206,6.390965484332751,1.1547637983139813,3.8046763162080484,3.5915380944806747,3.119134722443137,4.469540321297917,4.262764434547479,3.4022586289168126,6.473675839032927,4.350246540480357,10.0,1.1563543820582156,3.0698266263718783,3.601081596946079,4.445681565134405,3.314776522983935,6.166693176395737,2.2045490695085097,3.1334499761412444,6.362334976936537,1.1134086209638938,1.7305551137267376,2.9250835056465725,3.618578018132655,4.081437887704788,2.6658183553364085,5.361857801813265,3.3370446954032134,3.683791951646254,6.072848735485923,4.25163034833784,3.163671067281692,2.5115317321456976,4.475902656274854,2.802608557340544,5.904246858597107,6.056942898043582,3.038014951487196,5.007157626849055,1.8657547319866392,4.318434865595673,4.682678543025291,4.891045013519962,4.86718625735645,5.261651025926515,2.8073803085732463,1.7496421186575473,3.5088277397804997,4.822649912517894,5.163034833784,3.263877843168443,4.005089867981549,0.18927946556386188,1.3488150151105454,6.554795609988866,2.276125337999046,2.637187847940194,4.526801336090346,3.9526006044218227,2.680133609034516,1.5301415619532373,1.1849848894544297,3.574041673294099,4.5920152696039445,2.8932718307618894,5.91379036106251,4.574518848417369,5.465245745188485,4.72085255288691,1.2390647367583902,5.592492444727215,3.5390488309209482,5.334817878161284,2.0916176236678865,1.4044854461587404,4.577700015905838,6.020359471926198,4.596787020836647,2.508350564657229,4.180054079847305,3.2845554318434873,5.435024654048036,2.7739780499443296,2.972801017973596,3.0205185303006203,4.795609988865913,4.41705105773819],\"type\":\"scatter3d\"}],                        {\"template\":{\"data\":{\"barpolar\":[{\"marker\":{\"line\":{\"color\":\"rgb(17,17,17)\",\"width\":0.5},\"pattern\":{\"fillmode\":\"overlay\",\"size\":10,\"solidity\":0.2}},\"type\":\"barpolar\"}],\"bar\":[{\"error_x\":{\"color\":\"#f2f5fa\"},\"error_y\":{\"color\":\"#f2f5fa\"},\"marker\":{\"line\":{\"color\":\"rgb(17,17,17)\",\"width\":0.5},\"pattern\":{\"fillmode\":\"overlay\",\"size\":10,\"solidity\":0.2}},\"type\":\"bar\"}],\"carpet\":[{\"aaxis\":{\"endlinecolor\":\"#A2B1C6\",\"gridcolor\":\"#506784\",\"linecolor\":\"#506784\",\"minorgridcolor\":\"#506784\",\"startlinecolor\":\"#A2B1C6\"},\"baxis\":{\"endlinecolor\":\"#A2B1C6\",\"gridcolor\":\"#506784\",\"linecolor\":\"#506784\",\"minorgridcolor\":\"#506784\",\"startlinecolor\":\"#A2B1C6\"},\"type\":\"carpet\"}],\"choropleth\":[{\"colorbar\":{\"outlinewidth\":0,\"ticks\":\"\"},\"type\":\"choropleth\"}],\"contourcarpet\":[{\"colorbar\":{\"outlinewidth\":0,\"ticks\":\"\"},\"type\":\"contourcarpet\"}],\"contour\":[{\"colorbar\":{\"outlinewidth\":0,\"ticks\":\"\"},\"colorscale\":[[0.0,\"#0d0887\"],[0.1111111111111111,\"#46039f\"],[0.2222222222222222,\"#7201a8\"],[0.3333333333333333,\"#9c179e\"],[0.4444444444444444,\"#bd3786\"],[0.5555555555555556,\"#d8576b\"],[0.6666666666666666,\"#ed7953\"],[0.7777777777777778,\"#fb9f3a\"],[0.8888888888888888,\"#fdca26\"],[1.0,\"#f0f921\"]],\"type\":\"contour\"}],\"heatmapgl\":[{\"colorbar\":{\"outlinewidth\":0,\"ticks\":\"\"},\"colorscale\":[[0.0,\"#0d0887\"],[0.1111111111111111,\"#46039f\"],[0.2222222222222222,\"#7201a8\"],[0.3333333333333333,\"#9c179e\"],[0.4444444444444444,\"#bd3786\"],[0.5555555555555556,\"#d8576b\"],[0.6666666666666666,\"#ed7953\"],[0.7777777777777778,\"#fb9f3a\"],[0.8888888888888888,\"#fdca26\"],[1.0,\"#f0f921\"]],\"type\":\"heatmapgl\"}],\"heatmap\":[{\"colorbar\":{\"outlinewidth\":0,\"ticks\":\"\"},\"colorscale\":[[0.0,\"#0d0887\"],[0.1111111111111111,\"#46039f\"],[0.2222222222222222,\"#7201a8\"],[0.3333333333333333,\"#9c179e\"],[0.4444444444444444,\"#bd3786\"],[0.5555555555555556,\"#d8576b\"],[0.6666666666666666,\"#ed7953\"],[0.7777777777777778,\"#fb9f3a\"],[0.8888888888888888,\"#fdca26\"],[1.0,\"#f0f921\"]],\"type\":\"heatmap\"}],\"histogram2dcontour\":[{\"colorbar\":{\"outlinewidth\":0,\"ticks\":\"\"},\"colorscale\":[[0.0,\"#0d0887\"],[0.1111111111111111,\"#46039f\"],[0.2222222222222222,\"#7201a8\"],[0.3333333333333333,\"#9c179e\"],[0.4444444444444444,\"#bd3786\"],[0.5555555555555556,\"#d8576b\"],[0.6666666666666666,\"#ed7953\"],[0.7777777777777778,\"#fb9f3a\"],[0.8888888888888888,\"#fdca26\"],[1.0,\"#f0f921\"]],\"type\":\"histogram2dcontour\"}],\"histogram2d\":[{\"colorbar\":{\"outlinewidth\":0,\"ticks\":\"\"},\"colorscale\":[[0.0,\"#0d0887\"],[0.1111111111111111,\"#46039f\"],[0.2222222222222222,\"#7201a8\"],[0.3333333333333333,\"#9c179e\"],[0.4444444444444444,\"#bd3786\"],[0.5555555555555556,\"#d8576b\"],[0.6666666666666666,\"#ed7953\"],[0.7777777777777778,\"#fb9f3a\"],[0.8888888888888888,\"#fdca26\"],[1.0,\"#f0f921\"]],\"type\":\"histogram2d\"}],\"histogram\":[{\"marker\":{\"pattern\":{\"fillmode\":\"overlay\",\"size\":10,\"solidity\":0.2}},\"type\":\"histogram\"}],\"mesh3d\":[{\"colorbar\":{\"outlinewidth\":0,\"ticks\":\"\"},\"type\":\"mesh3d\"}],\"parcoords\":[{\"line\":{\"colorbar\":{\"outlinewidth\":0,\"ticks\":\"\"}},\"type\":\"parcoords\"}],\"pie\":[{\"automargin\":true,\"type\":\"pie\"}],\"scatter3d\":[{\"line\":{\"colorbar\":{\"outlinewidth\":0,\"ticks\":\"\"}},\"marker\":{\"colorbar\":{\"outlinewidth\":0,\"ticks\":\"\"}},\"type\":\"scatter3d\"}],\"scattercarpet\":[{\"marker\":{\"colorbar\":{\"outlinewidth\":0,\"ticks\":\"\"}},\"type\":\"scattercarpet\"}],\"scattergeo\":[{\"marker\":{\"colorbar\":{\"outlinewidth\":0,\"ticks\":\"\"}},\"type\":\"scattergeo\"}],\"scattergl\":[{\"marker\":{\"line\":{\"color\":\"#283442\"}},\"type\":\"scattergl\"}],\"scattermapbox\":[{\"marker\":{\"colorbar\":{\"outlinewidth\":0,\"ticks\":\"\"}},\"type\":\"scattermapbox\"}],\"scatterpolargl\":[{\"marker\":{\"colorbar\":{\"outlinewidth\":0,\"ticks\":\"\"}},\"type\":\"scatterpolargl\"}],\"scatterpolar\":[{\"marker\":{\"colorbar\":{\"outlinewidth\":0,\"ticks\":\"\"}},\"type\":\"scatterpolar\"}],\"scatter\":[{\"marker\":{\"line\":{\"color\":\"#283442\"}},\"type\":\"scatter\"}],\"scatterternary\":[{\"marker\":{\"colorbar\":{\"outlinewidth\":0,\"ticks\":\"\"}},\"type\":\"scatterternary\"}],\"surface\":[{\"colorbar\":{\"outlinewidth\":0,\"ticks\":\"\"},\"colorscale\":[[0.0,\"#0d0887\"],[0.1111111111111111,\"#46039f\"],[0.2222222222222222,\"#7201a8\"],[0.3333333333333333,\"#9c179e\"],[0.4444444444444444,\"#bd3786\"],[0.5555555555555556,\"#d8576b\"],[0.6666666666666666,\"#ed7953\"],[0.7777777777777778,\"#fb9f3a\"],[0.8888888888888888,\"#fdca26\"],[1.0,\"#f0f921\"]],\"type\":\"surface\"}],\"table\":[{\"cells\":{\"fill\":{\"color\":\"#506784\"},\"line\":{\"color\":\"rgb(17,17,17)\"}},\"header\":{\"fill\":{\"color\":\"#2a3f5f\"},\"line\":{\"color\":\"rgb(17,17,17)\"}},\"type\":\"table\"}]},\"layout\":{\"annotationdefaults\":{\"arrowcolor\":\"#f2f5fa\",\"arrowhead\":0,\"arrowwidth\":1},\"autotypenumbers\":\"strict\",\"coloraxis\":{\"colorbar\":{\"outlinewidth\":0,\"ticks\":\"\"}},\"colorscale\":{\"diverging\":[[0,\"#8e0152\"],[0.1,\"#c51b7d\"],[0.2,\"#de77ae\"],[0.3,\"#f1b6da\"],[0.4,\"#fde0ef\"],[0.5,\"#f7f7f7\"],[0.6,\"#e6f5d0\"],[0.7,\"#b8e186\"],[0.8,\"#7fbc41\"],[0.9,\"#4d9221\"],[1,\"#276419\"]],\"sequential\":[[0.0,\"#0d0887\"],[0.1111111111111111,\"#46039f\"],[0.2222222222222222,\"#7201a8\"],[0.3333333333333333,\"#9c179e\"],[0.4444444444444444,\"#bd3786\"],[0.5555555555555556,\"#d8576b\"],[0.6666666666666666,\"#ed7953\"],[0.7777777777777778,\"#fb9f3a\"],[0.8888888888888888,\"#fdca26\"],[1.0,\"#f0f921\"]],\"sequentialminus\":[[0.0,\"#0d0887\"],[0.1111111111111111,\"#46039f\"],[0.2222222222222222,\"#7201a8\"],[0.3333333333333333,\"#9c179e\"],[0.4444444444444444,\"#bd3786\"],[0.5555555555555556,\"#d8576b\"],[0.6666666666666666,\"#ed7953\"],[0.7777777777777778,\"#fb9f3a\"],[0.8888888888888888,\"#fdca26\"],[1.0,\"#f0f921\"]]},\"colorway\":[\"#636efa\",\"#EF553B\",\"#00cc96\",\"#ab63fa\",\"#FFA15A\",\"#19d3f3\",\"#FF6692\",\"#B6E880\",\"#FF97FF\",\"#FECB52\"],\"font\":{\"color\":\"#f2f5fa\"},\"geo\":{\"bgcolor\":\"rgb(17,17,17)\",\"lakecolor\":\"rgb(17,17,17)\",\"landcolor\":\"rgb(17,17,17)\",\"showlakes\":true,\"showland\":true,\"subunitcolor\":\"#506784\"},\"hoverlabel\":{\"align\":\"left\"},\"hovermode\":\"closest\",\"mapbox\":{\"style\":\"dark\"},\"paper_bgcolor\":\"rgb(17,17,17)\",\"plot_bgcolor\":\"rgb(17,17,17)\",\"polar\":{\"angularaxis\":{\"gridcolor\":\"#506784\",\"linecolor\":\"#506784\",\"ticks\":\"\"},\"bgcolor\":\"rgb(17,17,17)\",\"radialaxis\":{\"gridcolor\":\"#506784\",\"linecolor\":\"#506784\",\"ticks\":\"\"}},\"scene\":{\"xaxis\":{\"backgroundcolor\":\"rgb(17,17,17)\",\"gridcolor\":\"#506784\",\"gridwidth\":2,\"linecolor\":\"#506784\",\"showbackground\":true,\"ticks\":\"\",\"zerolinecolor\":\"#C8D4E3\"},\"yaxis\":{\"backgroundcolor\":\"rgb(17,17,17)\",\"gridcolor\":\"#506784\",\"gridwidth\":2,\"linecolor\":\"#506784\",\"showbackground\":true,\"ticks\":\"\",\"zerolinecolor\":\"#C8D4E3\"},\"zaxis\":{\"backgroundcolor\":\"rgb(17,17,17)\",\"gridcolor\":\"#506784\",\"gridwidth\":2,\"linecolor\":\"#506784\",\"showbackground\":true,\"ticks\":\"\",\"zerolinecolor\":\"#C8D4E3\"}},\"shapedefaults\":{\"line\":{\"color\":\"#f2f5fa\"}},\"sliderdefaults\":{\"bgcolor\":\"#C8D4E3\",\"bordercolor\":\"rgb(17,17,17)\",\"borderwidth\":1,\"tickwidth\":0},\"ternary\":{\"aaxis\":{\"gridcolor\":\"#506784\",\"linecolor\":\"#506784\",\"ticks\":\"\"},\"baxis\":{\"gridcolor\":\"#506784\",\"linecolor\":\"#506784\",\"ticks\":\"\"},\"bgcolor\":\"rgb(17,17,17)\",\"caxis\":{\"gridcolor\":\"#506784\",\"linecolor\":\"#506784\",\"ticks\":\"\"}},\"title\":{\"x\":0.05},\"updatemenudefaults\":{\"bgcolor\":\"#506784\",\"borderwidth\":0},\"xaxis\":{\"automargin\":true,\"gridcolor\":\"#283442\",\"linecolor\":\"#506784\",\"ticks\":\"\",\"title\":{\"standoff\":15},\"zerolinecolor\":\"#283442\",\"zerolinewidth\":2},\"yaxis\":{\"automargin\":true,\"gridcolor\":\"#283442\",\"linecolor\":\"#506784\",\"ticks\":\"\",\"title\":{\"standoff\":15},\"zerolinecolor\":\"#283442\",\"zerolinewidth\":2}}},\"scene\":{\"domain\":{\"x\":[0.0,1.0],\"y\":[0.0,1.0]},\"xaxis\":{\"title\":{\"text\":\"Scaled_Recency\"}},\"yaxis\":{\"title\":{\"text\":\"Scaled_Frequency\"}},\"zaxis\":{\"title\":{\"text\":\"Scaled_Monetary\"}}},\"legend\":{\"tracegroupgap\":0},\"title\":{\"text\":\"RFM Plot\"}},                        {\"responsive\": true}                    ).then(function(){\n",
              "                            \n",
              "var gd = document.getElementById('82e018f0-5995-4a7e-98c1-6dd1d9563c7a');\n",
              "var x = new MutationObserver(function (mutations, observer) {{\n",
              "        var display = window.getComputedStyle(gd).display;\n",
              "        if (!display || display === 'none') {{\n",
              "            console.log([gd, 'removed!']);\n",
              "            Plotly.purge(gd);\n",
              "            observer.disconnect();\n",
              "        }}\n",
              "}});\n",
              "\n",
              "// Listen for the removal of the full notebook cells\n",
              "var notebookContainer = gd.closest('#notebook-container');\n",
              "if (notebookContainer) {{\n",
              "    x.observe(notebookContainer, {childList: true});\n",
              "}}\n",
              "\n",
              "// Listen for the clearing of the current output cell\n",
              "var outputEl = gd.closest('.output');\n",
              "if (outputEl) {{\n",
              "    x.observe(outputEl, {childList: true});\n",
              "}}\n",
              "\n",
              "                        })                };                            </script>        </div>\n",
              "</body>\n",
              "</html>"
            ]
          },
          "metadata": {}
        }
      ]
    }
  ]
}