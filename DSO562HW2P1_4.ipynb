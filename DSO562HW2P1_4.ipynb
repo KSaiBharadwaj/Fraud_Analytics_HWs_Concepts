{
  "nbformat": 4,
  "nbformat_minor": 0,
  "metadata": {
    "colab": {
      "provenance": [],
      "authorship_tag": "ABX9TyNfIMsgigKAz8+joptHosmj",
      "include_colab_link": true
    },
    "kernelspec": {
      "name": "python3",
      "display_name": "Python 3"
    },
    "language_info": {
      "name": "python"
    }
  },
  "cells": [
    {
      "cell_type": "markdown",
      "metadata": {
        "id": "view-in-github",
        "colab_type": "text"
      },
      "source": [
        "<a href=\"https://colab.research.google.com/github/KSaiBharadwaj/fraudanalytics/blob/main/DSO562HW2P1_4.ipynb\" target=\"_parent\"><img src=\"https://colab.research.google.com/assets/colab-badge.svg\" alt=\"Open In Colab\"/></a>"
      ]
    },
    {
      "cell_type": "markdown",
      "source": [
        "Initializing Functions and Simpson Method Formulae"
      ],
      "metadata": {
        "id": "0yO_SC8euOvh"
      }
    },
    {
      "cell_type": "code",
      "source": [
        "import numpy as np\n",
        "def sn(x):\n",
        "  return np.exp(-(x**2)/2)/np.sqrt(2*np.pi)\n",
        "\n",
        "def simp(a, b, n):\n",
        "  # defining delta x\n",
        "  delx = (b - a)/n\n",
        "\n",
        "  #Initializing Sum\n",
        "  integralx = sn(a) + sn(b)\n",
        "\n",
        "  for i in range(1,n):\n",
        "    h = a + i * delx\n",
        "    if (i%2 == 0):\n",
        "      integralx += 2*sn(h)\n",
        "    else:\n",
        "      integralx += 4*sn(h)\n",
        "\n",
        "  return (delx/3)*(integralx)\n"
      ],
      "metadata": {
        "id": "di2d1a6Qttrq"
      },
      "execution_count": 8,
      "outputs": []
    },
    {
      "cell_type": "markdown",
      "source": [
        "Problem 1: Area under the curve; On the Left side for z = -2.45, -0.43, 1.35, 3.49"
      ],
      "metadata": {
        "id": "agO_5X9SxdUR"
      }
    },
    {
      "cell_type": "code",
      "execution_count": 14,
      "metadata": {
        "colab": {
          "base_uri": "https://localhost:8080/",
          "height": 0
        },
        "id": "A0tpCQsfsjfb",
        "outputId": "68c5be53-60cc-46ca-f050-e3374321be1b"
      },
      "outputs": [
        {
          "output_type": "stream",
          "name": "stdout",
          "text": [
            "Area on the left of z= -2.45 is 0.0071\n",
            "Area on the left of z= -0.43 is 0.3336\n",
            "Area on the left of z= 1.35 is 0.9115\n",
            "Area on the left of z= 3.49 is 0.9998\n"
          ]
        }
      ],
      "source": [
        "# Let's consider the x0 as 10 and n as 10000\n",
        "x0 = -10\n",
        "n = 10000\n",
        "xn = [-2.45,-0.43,1.35,3.49]\n",
        "\n",
        "for x in xn:\n",
        "  areaL = simp(x0, x, n)\n",
        "  print(\"Area on the left of z=\",x,\"is\",('%.4f'% areaL))"
      ]
    },
    {
      "cell_type": "markdown",
      "source": [
        "Problem 2: Area under the curve; On the Right side for z = -3.01, -1.59, 1.78, 3.11"
      ],
      "metadata": {
        "id": "s2VCXfmD0Oxd"
      }
    },
    {
      "cell_type": "code",
      "source": [
        "xn = [-3.01, -1.59, 1.78, 3.11]\n",
        "\n",
        "for x in xn:\n",
        "  areaR = 1- simp(x0, x, n)\n",
        "  print(\"Area on the right of z=\",x,\"is\",('%.4f'% areaR))"
      ],
      "metadata": {
        "colab": {
          "base_uri": "https://localhost:8080/",
          "height": 0
        },
        "id": "RTRg-eGt0dH3",
        "outputId": "b6942072-ccdb-4a9d-e1c3-eddcb05e3102"
      },
      "execution_count": 15,
      "outputs": [
        {
          "output_type": "stream",
          "name": "stdout",
          "text": [
            "Area on the right of z= -3.01 is 0.9987\n",
            "Area on the right of z= -1.59 is 0.9441\n",
            "Area on the right of z= 1.78 is 0.0375\n",
            "Area on the right of z= 3.11 is 0.0009\n"
          ]
        }
      ]
    },
    {
      "cell_type": "markdown",
      "source": [
        "Problem 3: Area under the curve; Inbetween for z = -2.04 and 2.04 , -0.55 and 0 , -1.04 and 2.76"
      ],
      "metadata": {
        "id": "7fhZEJOA1DU4"
      }
    },
    {
      "cell_type": "code",
      "source": [
        "xn = [[-2.04, 2.04], [-0.55, 0], [-1.04, 2.76]]\n",
        "\n",
        "for x in xn:\n",
        "  arL = simp(x0, x[0], n)\n",
        "  arR = simp(x0, x[1], n)\n",
        "  arI = arR - arL\n",
        "  print(\"Area Inbetween z=\",x[0],\"and z=\",x[1],\"is\",('%.4f'% arI))"
      ],
      "metadata": {
        "colab": {
          "base_uri": "https://localhost:8080/",
          "height": 0
        },
        "id": "npdsBHRY1ow7",
        "outputId": "021adc9a-e56d-4330-98cc-eb0025c62c20"
      },
      "execution_count": 16,
      "outputs": [
        {
          "output_type": "stream",
          "name": "stdout",
          "text": [
            "Area Inbetween z= -2.04 and z= 2.04 is 0.9586\n",
            "Area Inbetween z= -0.55 and z= 0 is 0.2088\n",
            "Area Inbetween z= -1.04 and z= 2.76 is 0.8479\n"
          ]
        }
      ]
    },
    {
      "cell_type": "markdown",
      "source": [
        "Problem 4: Area under the curve; Left of z = -2 and right of 2 , Left of z = -1.56 and right of 2.56, Left of z = -0.24 and right of 1.20"
      ],
      "metadata": {
        "id": "Xi_F1_Iu2pn6"
      }
    },
    {
      "cell_type": "code",
      "source": [
        "xn = [[-2, 2], [-1.56, 2.56], [-0.24, 1.20]]\n",
        "\n",
        "for x in xn:\n",
        "  arL = simp(x0, x[0], n)\n",
        "  arR = simp(x0, x[1], n)\n",
        "  arU  = 1 - (arR - arL)\n",
        "  print(\"Area to the left of z=\",x[0],\"and right of z=\",x[1],\"is\",('%.4f'% arU))"
      ],
      "metadata": {
        "colab": {
          "base_uri": "https://localhost:8080/",
          "height": 0
        },
        "id": "jkRVCgpW3VVd",
        "outputId": "fc462c24-bc1e-404f-ff07-2e74358a6e30"
      },
      "execution_count": 18,
      "outputs": [
        {
          "output_type": "stream",
          "name": "stdout",
          "text": [
            "Area to the left of z= -2 and right of z= 2 is 0.0455\n",
            "Area to the left of z= -1.56 and right of z= 2.56 is 0.0646\n",
            "Area to the left of z= -0.24 and right of z= 1.2 is 0.5202\n"
          ]
        }
      ]
    }
  ]
}